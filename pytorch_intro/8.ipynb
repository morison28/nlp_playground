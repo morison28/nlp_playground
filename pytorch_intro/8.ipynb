{
 "cells": [
  {
   "cell_type": "markdown",
   "metadata": {},
   "source": [
    "# 8. MNISTを使った数字認識"
   ]
  },
  {
   "cell_type": "markdown",
   "metadata": {},
   "source": []
  },
  {
   "cell_type": "code",
   "execution_count": 5,
   "metadata": {},
   "outputs": [],
   "source": [
    "import numpy as np\n",
    "import matplotlib.pyplot as plt\n",
    "import japanize_matplotlib\n",
    "from IPython.display import display\n",
    "import torch\n",
    "import torch.nn as nn\n",
    "import torch.optim as optim\n",
    "from torchinfo import summary\n",
    "from torchviz import make_dot\n",
    "\n",
    "# warning表示off\n",
    "import warnings\n",
    "warnings.simplefilter('ignore')\n",
    "# デフォルトフォントサイズ変更\n",
    "plt.rcParams['font.size'] = 14\n",
    "# デフォルトグラフサイズ変更\n",
    "plt.rcParams['figure.figsize'] = (6,6)\n",
    "# デフォルトで方眼表示ON\n",
    "plt.rcParams['axes.grid'] = True\n",
    "# numpyの表示桁数設定\n",
    "np.set_printoptions(suppress=True, precision=5)"
   ]
  },
  {
   "cell_type": "code",
   "execution_count": 3,
   "metadata": {},
   "outputs": [
    {
     "name": "stdout",
     "output_type": "stream",
     "text": [
      "cuda:0\n"
     ]
    }
   ],
   "source": [
    "# デバイスの割り当て\n",
    "device = torch.device(\"cuda:0\" if torch.cuda.is_available() else \"cpu\")\n",
    "print(device)"
   ]
  },
  {
   "cell_type": "code",
   "execution_count": 2,
   "metadata": {},
   "outputs": [
    {
     "name": "stdout",
     "output_type": "stream",
     "text": [
      "Downloading http://yann.lecun.com/exdb/mnist/train-images-idx3-ubyte.gz\n",
      "Downloading http://yann.lecun.com/exdb/mnist/train-images-idx3-ubyte.gz to data/MNIST/raw/train-images-idx3-ubyte.gz\n"
     ]
    },
    {
     "data": {
      "application/vnd.jupyter.widget-view+json": {
       "model_id": "b72a0f239dac49bcbd2c8ee672cf292c",
       "version_major": 2,
       "version_minor": 0
      },
      "text/plain": [
       "  0%|          | 0/9912422 [00:00<?, ?it/s]"
      ]
     },
     "metadata": {},
     "output_type": "display_data"
    },
    {
     "name": "stdout",
     "output_type": "stream",
     "text": [
      "Extracting data/MNIST/raw/train-images-idx3-ubyte.gz to data/MNIST/raw\n",
      "\n",
      "Downloading http://yann.lecun.com/exdb/mnist/train-labels-idx1-ubyte.gz\n",
      "Downloading http://yann.lecun.com/exdb/mnist/train-labels-idx1-ubyte.gz to data/MNIST/raw/train-labels-idx1-ubyte.gz\n"
     ]
    },
    {
     "data": {
      "application/vnd.jupyter.widget-view+json": {
       "model_id": "20f8c612a65a4735a498de90c07fe864",
       "version_major": 2,
       "version_minor": 0
      },
      "text/plain": [
       "  0%|          | 0/28881 [00:00<?, ?it/s]"
      ]
     },
     "metadata": {},
     "output_type": "display_data"
    },
    {
     "name": "stdout",
     "output_type": "stream",
     "text": [
      "Extracting data/MNIST/raw/train-labels-idx1-ubyte.gz to data/MNIST/raw\n",
      "\n",
      "Downloading http://yann.lecun.com/exdb/mnist/t10k-images-idx3-ubyte.gz\n",
      "Downloading http://yann.lecun.com/exdb/mnist/t10k-images-idx3-ubyte.gz to data/MNIST/raw/t10k-images-idx3-ubyte.gz\n"
     ]
    },
    {
     "data": {
      "application/vnd.jupyter.widget-view+json": {
       "model_id": "77c9ecd0ab7b4425a0a3e39b6a36674f",
       "version_major": 2,
       "version_minor": 0
      },
      "text/plain": [
       "  0%|          | 0/1648877 [00:00<?, ?it/s]"
      ]
     },
     "metadata": {},
     "output_type": "display_data"
    },
    {
     "name": "stdout",
     "output_type": "stream",
     "text": [
      "Extracting data/MNIST/raw/t10k-images-idx3-ubyte.gz to data/MNIST/raw\n",
      "\n",
      "Downloading http://yann.lecun.com/exdb/mnist/t10k-labels-idx1-ubyte.gz\n",
      "Downloading http://yann.lecun.com/exdb/mnist/t10k-labels-idx1-ubyte.gz to data/MNIST/raw/t10k-labels-idx1-ubyte.gz\n"
     ]
    },
    {
     "data": {
      "application/vnd.jupyter.widget-view+json": {
       "model_id": "ae91f4c7e41142398e0da41ecb3f63db",
       "version_major": 2,
       "version_minor": 0
      },
      "text/plain": [
       "  0%|          | 0/4542 [00:00<?, ?it/s]"
      ]
     },
     "metadata": {},
     "output_type": "display_data"
    },
    {
     "name": "stdout",
     "output_type": "stream",
     "text": [
      "Extracting data/MNIST/raw/t10k-labels-idx1-ubyte.gz to data/MNIST/raw\n",
      "\n"
     ]
    }
   ],
   "source": [
    "#\n",
    "# MNISTをダウンロードする\n",
    "#\n",
    "\n",
    "# ライブラリインポート\n",
    "import torchvision.datasets as datasets\n",
    "\n",
    "# ダウンロード先ディレクトリ名\n",
    "data_root = 'data/'\n",
    "\n",
    "train_set0 = datasets.MNIST(\n",
    "    # 元データダウンロード先の指定\n",
    "    root = data_root,  \n",
    "    # 訓練データか検証データか\n",
    "    train = True,  \n",
    "    # 元データがない場合にダウンロードするか\n",
    "    download = True)"
   ]
  },
  {
   "cell_type": "code",
   "execution_count": 6,
   "metadata": {},
   "outputs": [
    {
     "name": "stdout",
     "output_type": "stream",
     "text": [
      "データ件数:  60000\n"
     ]
    }
   ],
   "source": [
    "# データ件数の確認\n",
    "print('データ件数: ', len(train_set0))"
   ]
  },
  {
   "cell_type": "code",
   "execution_count": 7,
   "metadata": {},
   "outputs": [
    {
     "name": "stdout",
     "output_type": "stream",
     "text": [
      "入力データの型:  <class 'PIL.Image.Image'>\n",
      "正解データの型:  <class 'int'>\n"
     ]
    }
   ],
   "source": [
    "# 最初の要素の取得\n",
    "image, label = train_set0[0]\n",
    "\n",
    "# データ型の確認\n",
    "print('入力データの型: ', type(image))\n",
    "print('正解データの型: ', type(label))"
   ]
  },
  {
   "cell_type": "code",
   "execution_count": 8,
   "metadata": {},
   "outputs": [
    {
     "data": {
      "image/png": "[encoded data removed]",
      "text/plain": [
       "<Figure size 200x300 with 1 Axes>"
      ]
     },
     "metadata": {},
     "output_type": "display_data"
    }
   ],
   "source": [
    "# 入力データの画像表示\n",
    "\n",
    "plt.figure(figsize=(2,3))\n",
    "plt.title(f'{label}')\n",
    "plt.imshow(image, cmap='gray_r')\n",
    "plt.axis('off')\n",
    "plt.show()"
   ]
  },
  {
   "cell_type": "code",
   "execution_count": 9,
   "metadata": {},
   "outputs": [
    {
     "data": {
      "image/png": "[encoded data removed]",
      "text/plain": [
       "<Figure size 1000x300 with 20 Axes>"
      ]
     },
     "metadata": {},
     "output_type": "display_data"
    }
   ],
   "source": [
    "# 正解データ付きで、最初の20個をイメージ表示\n",
    "\n",
    "plt.figure(figsize=(10, 3))\n",
    "for i in range(20):\n",
    "    ax = plt.subplot(2, 10, i + 1)\n",
    "    \n",
    "    # image と labelの取得\n",
    "    image, label = train_set0[i]\n",
    "    \n",
    "    # イメージ表示\n",
    "    plt.imshow(image, cmap='gray_r')\n",
    "    ax.set_title(f'{label}')\n",
    "    ax.get_xaxis().set_visible(False)\n",
    "    ax.get_yaxis().set_visible(False)\n",
    "plt.show()"
   ]
  },
  {
   "cell_type": "markdown",
   "metadata": {},
   "source": [
    "- 学習データをモデルの入力にする前に加工する\n",
    "    - `torchvision.transforms`に，前処理に便利な部品を揃っているので，これを組み合わせて使うだけで，簡単に望む形式にデータを変換することができる"
   ]
  },
  {
   "cell_type": "code",
   "execution_count": 11,
   "metadata": {},
   "outputs": [
    {
     "name": "stdout",
     "output_type": "stream",
     "text": [
      "入力データの型:  <class 'torch.Tensor'>\n",
      "入力データのshape:  torch.Size([1, 28, 28])\n",
      "最小値:  tensor(0.)\n",
      "最大値:  tensor(1.)\n"
     ]
    }
   ],
   "source": [
    "from torchvision import transforms\n",
    "\n",
    "# 入力データの形式をPytorchで扱えるテンソル形式に変換する機能\n",
    "transforms1 = transforms.Compose([\n",
    "    transforms.ToTensor()\n",
    "])\n",
    "\n",
    "train_set1 = datasets.MNIST(\n",
    "    root = data_root,\n",
    "    train=True,\n",
    "    download=True,\n",
    "    transform = transforms1,\n",
    ")\n",
    "\n",
    "# 変換結果の確認\n",
    "\n",
    "image, label = train_set1[0]\n",
    "print('入力データの型: ', type(image))\n",
    "print('入力データのshape: ', image.shape)\n",
    "print('最小値: ', image.data.min())\n",
    "print('最大値: ', image.data.max())"
   ]
  },
  {
   "cell_type": "code",
   "execution_count": 12,
   "metadata": {},
   "outputs": [
    {
     "name": "stdout",
     "output_type": "stream",
     "text": [
      "shape:  torch.Size([1, 28, 28])\n",
      "最小値:  tensor(-1.)\n",
      "最大値:  tensor(1.)\n"
     ]
    }
   ],
   "source": [
    "# 標準化\n",
    "transform2 = transforms.Compose([\n",
    "    # データのTensor化\n",
    "    transforms.ToTensor(),\n",
    "    \n",
    "    # データの正規化\n",
    "    # [0,1]に正規化されているが，今回は[-1, 1]\n",
    "    transforms.Normalize(0.5,  0.5),\n",
    "])\n",
    "\n",
    "train_set2 = datasets.MNIST(\n",
    "    root = data_root,  train = True,  download = True,\n",
    "    transform = transform2)\n",
    "\n",
    "# 変換結果の確認\n",
    "\n",
    "image, label = train_set2[0]\n",
    "print('shape: ', image.shape)\n",
    "print('最小値: ', image.data.min())\n",
    "print('最大値: ', image.data.max())"
   ]
  },
  {
   "cell_type": "code",
   "execution_count": 13,
   "metadata": {},
   "outputs": [
    {
     "name": "stdout",
     "output_type": "stream",
     "text": [
      "shape:  torch.Size([784])\n",
      "最小値:  tensor(-1.)\n",
      "最大値:  tensor(1.)\n"
     ]
    }
   ],
   "source": [
    "transform3 = transforms.Compose([\n",
    "    # データのTensor化\n",
    "    transforms.ToTensor(),\n",
    "    # データの正規化\n",
    "    transforms.Normalize(0.5, 0.5),\n",
    "    # Tensorの1階テンソル化\n",
    "    transforms.Lambda(lambda x: x.view(-1)),\n",
    "])\n",
    "\n",
    "train_set3 = datasets.MNIST(\n",
    "    root = data_root,\n",
    "    train = True,  \n",
    "    download=True,\n",
    "    transform = transform3)\n",
    "\n",
    "# 変換結果の確認\n",
    "image, label = train_set3[0]\n",
    "print('shape: ', image.shape)\n",
    "print('最小値: ', image.data.min())\n",
    "print('最大値: ', image.data.max())"
   ]
  },
  {
   "cell_type": "code",
   "execution_count": 14,
   "metadata": {},
   "outputs": [],
   "source": [
    "#\n",
    "# 最終的な前処理コード\n",
    "#\n",
    "\n",
    "# データ変換用関数 Transforms\n",
    "# (1) Imageをテンソル化\n",
    "# (2) [0, 1]の範囲の値を[-1, 1]の範囲にする\n",
    "# (3) データのshapeを[1, 28, 28]から[784]に変換\n",
    "\n",
    "transform = transforms.Compose([\n",
    "    # (1) データのテンソル化\n",
    "    transforms.ToTensor(),\n",
    "    \n",
    "    # (2) データの正規化\n",
    "    transforms.Normalize(0.5, 0.5),\n",
    "    \n",
    "    # (3) 1階テンソルに変換\n",
    "    transforms.Lambda(lambda x: x.view(-1)),\n",
    "])\n",
    "\n",
    "# データ取得用関数 Dataset\n",
    "\n",
    "# 訓練用データセットの定義\n",
    "train_set = datasets.MNIST(\n",
    "    root = data_root, train = True,\n",
    "    download = True, transform = transform)\n",
    "\n",
    "# 検証データセットの定義\n",
    "test_set = datasets.MNIST(\n",
    "    root = data_root, train = False, \n",
    "    download = True, transform = transform)"
   ]
  },
  {
   "cell_type": "code",
   "execution_count": 15,
   "metadata": {},
   "outputs": [],
   "source": [
    "# ライブラリインポート\n",
    "from torch.utils.data import DataLoader\n",
    "\n",
    "# ミニバッチのサイズ指定\n",
    "batch_size = 500\n",
    "\n",
    "# 訓練用データローダー\n",
    "# 訓練用なので、シャッフルをかける\n",
    "train_loader = DataLoader(\n",
    "    train_set, batch_size = batch_size, \n",
    "    shuffle = True)\n",
    "\n",
    "# 検証用データローダー\n",
    "# 検証時にシャッフルは不要\n",
    "test_loader = DataLoader(\n",
    "    test_set,  batch_size = batch_size, \n",
    "    shuffle = False) "
   ]
  },
  {
   "cell_type": "code",
   "execution_count": 17,
   "metadata": {},
   "outputs": [
    {
     "name": "stdout",
     "output_type": "stream",
     "text": [
      "120\n",
      "20\n",
      "torch.Size([500, 784])\n",
      "torch.Size([500])\n"
     ]
    }
   ],
   "source": [
    "# 何組のデータが取得できるか\n",
    "print(len(train_loader))\n",
    "print(len(test_loader))\n",
    "\n",
    "# DataLoaderから最初の1セットを取得する\n",
    "for images, labels in train_loader:\n",
    "    break\n",
    "\n",
    "print(images.shape)\n",
    "print(labels.shape)"
   ]
  },
  {
   "cell_type": "code",
   "execution_count": 18,
   "metadata": {},
   "outputs": [
    {
     "data": {
      "image/png": "[encoded data removed]",
      "text/plain": [
       "<Figure size 1000x300 with 20 Axes>"
      ]
     },
     "metadata": {},
     "output_type": "display_data"
    }
   ],
   "source": [
    "# イメージ表示\n",
    "plt.figure(figsize=(10, 3))\n",
    "for i in range(20):\n",
    "    ax = plt.subplot(2, 10, i + 1)\n",
    "    \n",
    "    # numpyに変換\n",
    "    image = images[i].numpy()\n",
    "    label = labels[i]\n",
    "    \n",
    "    # imgの範囲を[0, 1]に戻す\n",
    "    image2 = (image + 1)/ 2\n",
    "    # イメージ表示\n",
    "    plt.imshow(image2.reshape(28, 28),cmap='gray_r')\n",
    "    ax.set_title(f'{label}')\n",
    "    ax.get_xaxis().set_visible(False)\n",
    "    ax.get_yaxis().set_visible(False)\n",
    "plt.show()"
   ]
  },
  {
   "cell_type": "code",
   "execution_count": 19,
   "metadata": {},
   "outputs": [],
   "source": [
    "# \n",
    "# モデルの定義\n",
    "#\n",
    "\n",
    "# 784入力10出力1隠れ層のニューラルネットワークモデル\n",
    "\n",
    "class Net(nn.Module):\n",
    "    def __init__(self, n_input, n_output, n_hidden):\n",
    "        super().__init__()\n",
    "\n",
    "        # 隠れ層の定義 (隠れ層のノード数: n_hidden)\n",
    "        self.l1 = nn.Linear(n_input, n_hidden)\n",
    "\n",
    "        # 出力層の定義\n",
    "        self.l2 = nn.Linear(n_hidden, n_output)\n",
    "\n",
    "        # ReLU関数の定義\n",
    "        self.relu = nn.ReLU(inplace=True)\n",
    "   \n",
    "    def forward(self, x):\n",
    "        x1 = self.l1(x)\n",
    "        x2 = self.relu(x1)\n",
    "        x3 = self.l2(x2)\n",
    "        return x3"
   ]
  },
  {
   "cell_type": "code",
   "execution_count": 20,
   "metadata": {},
   "outputs": [
    {
     "name": "stdout",
     "output_type": "stream",
     "text": [
      "n_input: 784  n_hidden: 128 n_output: 10\n"
     ]
    }
   ],
   "source": [
    "# 入力次元数\n",
    "n_input = image.shape[0]\n",
    "\n",
    "# 出力次元数\n",
    "# 分類先クラス数　今回は10になる\n",
    "n_output = 10\n",
    "\n",
    "#   隠れ層のノード数\n",
    "n_hidden = 128\n",
    "\n",
    "# 結果確認\n",
    "print(f'n_input: {n_input}  n_hidden: {n_hidden} n_output: {n_output}')\n",
    "\n",
    "\n",
    "# 乱数の固定化\n",
    "torch.manual_seed(123)\n",
    "torch.cuda.manual_seed(123)\n",
    "\n",
    "# モデルインスタンス生成\n",
    "net = Net(n_input, n_output, n_hidden)\n",
    "\n",
    "# モデルをGPU側に送る\n",
    "net = net.to(device)"
   ]
  },
  {
   "cell_type": "code",
   "execution_count": 21,
   "metadata": {},
   "outputs": [],
   "source": [
    "#\n",
    "# 最適化アルゴリズムと損失関数\n",
    "#\n",
    "\n",
    "# 学習率\n",
    "lr = 0.01\n",
    "\n",
    "# アルゴリズム: 勾配降下法\n",
    "optimizer = torch.optim.SGD(net.parameters(), lr=lr)\n",
    "\n",
    "# 損失関数： 交差エントロピー関数\n",
    "criterion = nn.CrossEntropyLoss()"
   ]
  },
  {
   "cell_type": "code",
   "execution_count": 22,
   "metadata": {},
   "outputs": [
    {
     "name": "stdout",
     "output_type": "stream",
     "text": [
      "('l1.weight', Parameter containing:\n",
      "tensor([[-0.0146,  0.0012, -0.0177,  ...,  0.0277,  0.0200,  0.0315],\n",
      "        [ 0.0184, -0.0322,  0.0175,  ...,  0.0089, -0.0028, -0.0033],\n",
      "        [ 0.0092,  0.0261,  0.0075,  ...,  0.0061,  0.0267, -0.0258],\n",
      "        ...,\n",
      "        [ 0.0235, -0.0026, -0.0129,  ...,  0.0322, -0.0059, -0.0169],\n",
      "        [-0.0328, -0.0258,  0.0124,  ..., -0.0049,  0.0006,  0.0334],\n",
      "        [ 0.0187, -0.0076, -0.0202,  ...,  0.0325, -0.0159, -0.0240]],\n",
      "       device='cuda:0', requires_grad=True))\n",
      "('l1.bias', Parameter containing:\n",
      "tensor([ 0.0325, -0.0298,  0.0013,  0.0199,  0.0268, -0.0248, -0.0172, -0.0355,\n",
      "         0.0122, -0.0048,  0.0214,  0.0202, -0.0243,  0.0015, -0.0276,  0.0296,\n",
      "         0.0341, -0.0228,  0.0230,  0.0347, -0.0091, -0.0346,  0.0206, -0.0060,\n",
      "         0.0329,  0.0047,  0.0180,  0.0101,  0.0177, -0.0309,  0.0228, -0.0224,\n",
      "         0.0321,  0.0179,  0.0321,  0.0184,  0.0219, -0.0089,  0.0310, -0.0039,\n",
      "        -0.0074, -0.0317,  0.0192, -0.0021,  0.0190,  0.0038,  0.0334, -0.0027,\n",
      "        -0.0127,  0.0229, -0.0265,  0.0023, -0.0162, -0.0134, -0.0027,  0.0212,\n",
      "        -0.0205, -0.0144,  0.0121,  0.0001,  0.0086,  0.0033,  0.0123,  0.0213,\n",
      "        -0.0177,  0.0247, -0.0109, -0.0222,  0.0228, -0.0110, -0.0074, -0.0089,\n",
      "        -0.0205,  0.0323, -0.0207, -0.0205, -0.0028, -0.0341, -0.0304,  0.0144,\n",
      "         0.0072,  0.0326, -0.0342, -0.0329, -0.0032, -0.0200, -0.0029, -0.0098,\n",
      "         0.0220, -0.0160,  0.0099,  0.0033, -0.0289,  0.0110,  0.0199,  0.0131,\n",
      "        -0.0279,  0.0122,  0.0237,  0.0126, -0.0055, -0.0088, -0.0057, -0.0048,\n",
      "         0.0007, -0.0017, -0.0324,  0.0048, -0.0134,  0.0334,  0.0298, -0.0060,\n",
      "         0.0263,  0.0113, -0.0113,  0.0150,  0.0091, -0.0311, -0.0079,  0.0002,\n",
      "        -0.0282, -0.0016,  0.0304, -0.0237, -0.0157, -0.0255,  0.0006,  0.0100],\n",
      "       device='cuda:0', requires_grad=True))\n",
      "('l2.weight', Parameter containing:\n",
      "tensor([[ 0.0107,  0.0714,  0.0153,  ...,  0.0704,  0.0505, -0.0382],\n",
      "        [-0.0066,  0.0348,  0.0143,  ..., -0.0039, -0.0141,  0.0130],\n",
      "        [-0.0251, -0.0654,  0.0567,  ..., -0.0435,  0.0154,  0.0256],\n",
      "        ...,\n",
      "        [-0.0131,  0.0147, -0.0452,  ...,  0.0344, -0.0539,  0.0466],\n",
      "        [ 0.0771, -0.0510,  0.0769,  ..., -0.0257, -0.0351,  0.0670],\n",
      "        [ 0.0456,  0.0628, -0.0649,  ..., -0.0804,  0.0707,  0.0119]],\n",
      "       device='cuda:0', requires_grad=True))\n",
      "('l2.bias', Parameter containing:\n",
      "tensor([-0.0787, -0.0282, -0.0108,  0.0021, -0.0330, -0.0162, -0.0825,  0.0590,\n",
      "         0.0566, -0.0631], device='cuda:0', requires_grad=True))\n"
     ]
    }
   ],
   "source": [
    "# モデル内のパラメータの確認\n",
    "# l1.weight, l1.bias, l2.weight, l2.biasがあることがわかる\n",
    "\n",
    "for parameter in net.named_parameters():\n",
    "    print(parameter)"
   ]
  },
  {
   "cell_type": "code",
   "execution_count": 23,
   "metadata": {},
   "outputs": [
    {
     "data": {
      "text/plain": [
       "==========================================================================================\n",
       "Layer (type:depth-idx)                   Output Shape              Param #\n",
       "==========================================================================================\n",
       "Net                                      [10]                      --\n",
       "├─Linear: 1-1                            [128]                     100,480\n",
       "├─ReLU: 1-2                              [128]                     --\n",
       "├─Linear: 1-3                            [10]                      1,290\n",
       "==========================================================================================\n",
       "Total params: 101,770\n",
       "Trainable params: 101,770\n",
       "Non-trainable params: 0\n",
       "Total mult-adds (M): 12.87\n",
       "==========================================================================================\n",
       "Input size (MB): 0.00\n",
       "Forward/backward pass size (MB): 0.00\n",
       "Params size (MB): 0.41\n",
       "Estimated Total Size (MB): 0.41\n",
       "=========================================================================================="
      ]
     },
     "execution_count": 23,
     "metadata": {},
     "output_type": "execute_result"
    }
   ],
   "source": [
    "# モデルのサマリー表示\n",
    "\n",
    "summary(net, (784,))"
   ]
  },
  {
   "cell_type": "code",
   "execution_count": 24,
   "metadata": {},
   "outputs": [
    {
     "name": "stdout",
     "output_type": "stream",
     "text": [
      "tensor([[-0.3622, -0.1927, -0.0179,  ...,  0.1073,  0.1025, -0.0615],\n",
      "        [-0.4072, -0.1814,  0.0716,  ...,  0.1866,  0.1975,  0.1161],\n",
      "        [-0.3221, -0.0547, -0.2868,  ...,  0.1967, -0.0103,  0.1591],\n",
      "        ...,\n",
      "        [-0.2091, -0.1058,  0.2365,  ...,  0.1360,  0.0665,  0.0987],\n",
      "        [-0.2756, -0.2012,  0.1703,  ...,  0.1223,  0.2388,  0.0233],\n",
      "        [-0.3045, -0.2458,  0.1416,  ...,  0.1012,  0.0820, -0.1457]],\n",
      "       device='cuda:0', grad_fn=<AddmmBackward0>)\n"
     ]
    }
   ],
   "source": [
    "# 訓練データセット　最初の1項目を取得\n",
    "# データローダーから最初の1セットを取得する\n",
    "for images, labels in train_loader:\n",
    "    break \n",
    "\n",
    "# データローダーから取得したデータをGPUに送る\n",
    "inputs = images.to(device)\n",
    "labels = labels.to(device)\n",
    "\n",
    "# 予測計算\n",
    "outputs = net(inputs)\n",
    "\n",
    "# 結果確認\n",
    "print(outputs)"
   ]
  },
  {
   "cell_type": "code",
   "execution_count": 25,
   "metadata": {},
   "outputs": [
    {
     "name": "stdout",
     "output_type": "stream",
     "text": [
      "2.3328874111175537\n"
     ]
    },
    {
     "data": {
      "image/svg+xml": [
       "<?xml version=\"1.0\" encoding=\"UTF-8\" standalone=\"no\"?>\n",
       "<!DOCTYPE svg PUBLIC \"-//W3C//DTD SVG 1.1//EN\"\n",
       " \"http://www.w3.org/Graphics/SVG/1.1/DTD/svg11.dtd\">\n",
       "<!-- Generated by graphviz version 2.43.0 (0)\n",
       " -->\n",
       "<!-- Title: %3 Pages: 1 -->\n",
       "<svg width=\"340pt\" height=\"523pt\"\n",
       " viewBox=\"0.00 0.00 340.00 523.00\" xmlns=\"http://www.w3.org/2000/svg\" xmlns:xlink=\"http://www.w3.org/1999/xlink\">\n",
       "<g id=\"graph0\" class=\"graph\" transform=\"scale(1 1) rotate(0) translate(4 519)\">\n",
       "<title>%3</title>\n",
       "<polygon fill=\"white\" stroke=\"transparent\" points=\"-4,4 -4,-519 336,-519 336,4 -4,4\"/>\n",
       "<!-- 139876493647824 -->\n",
       "<g id=\"node1\" class=\"node\">\n",
       "<title>139876493647824</title>\n",
       "<polygon fill=\"#caff70\" stroke=\"black\" points=\"193.5,-31 139.5,-31 139.5,0 193.5,0 193.5,-31\"/>\n",
       "<text text-anchor=\"middle\" x=\"166.5\" y=\"-7\" font-family=\"monospace\" font-size=\"10.00\"> ()</text>\n",
       "</g>\n",
       "<!-- 139876494110016 -->\n",
       "<g id=\"node2\" class=\"node\">\n",
       "<title>139876494110016</title>\n",
       "<polygon fill=\"lightgrey\" stroke=\"black\" points=\"223,-86 110,-86 110,-67 223,-67 223,-86\"/>\n",
       "<text text-anchor=\"middle\" x=\"166.5\" y=\"-74\" font-family=\"monospace\" font-size=\"10.00\">NllLossBackward0</text>\n",
       "</g>\n",
       "<!-- 139876494110016&#45;&gt;139876493647824 -->\n",
       "<g id=\"edge15\" class=\"edge\">\n",
       "<title>139876494110016&#45;&gt;139876493647824</title>\n",
       "<path fill=\"none\" stroke=\"black\" d=\"M166.5,-66.79C166.5,-60.07 166.5,-50.4 166.5,-41.34\"/>\n",
       "<polygon fill=\"black\" stroke=\"black\" points=\"170,-41.19 166.5,-31.19 163,-41.19 170,-41.19\"/>\n",
       "</g>\n",
       "<!-- 139876494109056 -->\n",
       "<g id=\"node3\" class=\"node\">\n",
       "<title>139876494109056</title>\n",
       "<polygon fill=\"lightgrey\" stroke=\"black\" points=\"232,-141 101,-141 101,-122 232,-122 232,-141\"/>\n",
       "<text text-anchor=\"middle\" x=\"166.5\" y=\"-129\" font-family=\"monospace\" font-size=\"10.00\">LogSoftmaxBackward0</text>\n",
       "</g>\n",
       "<!-- 139876494109056&#45;&gt;139876494110016 -->\n",
       "<g id=\"edge1\" class=\"edge\">\n",
       "<title>139876494109056&#45;&gt;139876494110016</title>\n",
       "<path fill=\"none\" stroke=\"black\" d=\"M166.5,-121.75C166.5,-114.8 166.5,-104.85 166.5,-96.13\"/>\n",
       "<polygon fill=\"black\" stroke=\"black\" points=\"170,-96.09 166.5,-86.09 163,-96.09 170,-96.09\"/>\n",
       "</g>\n",
       "<!-- 139876494114528 -->\n",
       "<g id=\"node4\" class=\"node\">\n",
       "<title>139876494114528</title>\n",
       "<polygon fill=\"lightgrey\" stroke=\"black\" points=\"217,-196 116,-196 116,-177 217,-177 217,-196\"/>\n",
       "<text text-anchor=\"middle\" x=\"166.5\" y=\"-184\" font-family=\"monospace\" font-size=\"10.00\">AddmmBackward0</text>\n",
       "</g>\n",
       "<!-- 139876494114528&#45;&gt;139876494109056 -->\n",
       "<g id=\"edge2\" class=\"edge\">\n",
       "<title>139876494114528&#45;&gt;139876494109056</title>\n",
       "<path fill=\"none\" stroke=\"black\" d=\"M166.5,-176.75C166.5,-169.8 166.5,-159.85 166.5,-151.13\"/>\n",
       "<polygon fill=\"black\" stroke=\"black\" points=\"170,-151.09 166.5,-141.09 163,-151.09 170,-151.09\"/>\n",
       "</g>\n",
       "<!-- 139876494110976 -->\n",
       "<g id=\"node5\" class=\"node\">\n",
       "<title>139876494110976</title>\n",
       "<polygon fill=\"lightgrey\" stroke=\"black\" points=\"101,-251 0,-251 0,-232 101,-232 101,-251\"/>\n",
       "<text text-anchor=\"middle\" x=\"50.5\" y=\"-239\" font-family=\"monospace\" font-size=\"10.00\">AccumulateGrad</text>\n",
       "</g>\n",
       "<!-- 139876494110976&#45;&gt;139876494114528 -->\n",
       "<g id=\"edge3\" class=\"edge\">\n",
       "<title>139876494110976&#45;&gt;139876494114528</title>\n",
       "<path fill=\"none\" stroke=\"black\" d=\"M69.14,-231.98C87.8,-223.46 116.75,-210.23 138.24,-200.41\"/>\n",
       "<polygon fill=\"black\" stroke=\"black\" points=\"139.88,-203.51 147.52,-196.17 136.97,-197.14 139.88,-203.51\"/>\n",
       "</g>\n",
       "<!-- 139873686667648 -->\n",
       "<g id=\"node6\" class=\"node\">\n",
       "<title>139873686667648</title>\n",
       "<polygon fill=\"lightblue\" stroke=\"black\" points=\"80,-317 21,-317 21,-287 80,-287 80,-317\"/>\n",
       "<text text-anchor=\"middle\" x=\"50.5\" y=\"-305\" font-family=\"monospace\" font-size=\"10.00\">l2.bias</text>\n",
       "<text text-anchor=\"middle\" x=\"50.5\" y=\"-294\" font-family=\"monospace\" font-size=\"10.00\"> (10)</text>\n",
       "</g>\n",
       "<!-- 139873686667648&#45;&gt;139876494110976 -->\n",
       "<g id=\"edge4\" class=\"edge\">\n",
       "<title>139873686667648&#45;&gt;139876494110976</title>\n",
       "<path fill=\"none\" stroke=\"black\" d=\"M50.5,-286.84C50.5,-279.21 50.5,-269.7 50.5,-261.45\"/>\n",
       "<polygon fill=\"black\" stroke=\"black\" points=\"54,-261.27 50.5,-251.27 47,-261.27 54,-261.27\"/>\n",
       "</g>\n",
       "<!-- 139876494113664 -->\n",
       "<g id=\"node7\" class=\"node\">\n",
       "<title>139876494113664</title>\n",
       "<polygon fill=\"lightgrey\" stroke=\"black\" points=\"214,-251 119,-251 119,-232 214,-232 214,-251\"/>\n",
       "<text text-anchor=\"middle\" x=\"166.5\" y=\"-239\" font-family=\"monospace\" font-size=\"10.00\">ReluBackward0</text>\n",
       "</g>\n",
       "<!-- 139876494113664&#45;&gt;139876494114528 -->\n",
       "<g id=\"edge5\" class=\"edge\">\n",
       "<title>139876494113664&#45;&gt;139876494114528</title>\n",
       "<path fill=\"none\" stroke=\"black\" d=\"M166.5,-231.75C166.5,-224.8 166.5,-214.85 166.5,-206.13\"/>\n",
       "<polygon fill=\"black\" stroke=\"black\" points=\"170,-206.09 166.5,-196.09 163,-206.09 170,-206.09\"/>\n",
       "</g>\n",
       "<!-- 139876494102144 -->\n",
       "<g id=\"node8\" class=\"node\">\n",
       "<title>139876494102144</title>\n",
       "<polygon fill=\"lightgrey\" stroke=\"black\" points=\"213,-311.5 112,-311.5 112,-292.5 213,-292.5 213,-311.5\"/>\n",
       "<text text-anchor=\"middle\" x=\"162.5\" y=\"-299.5\" font-family=\"monospace\" font-size=\"10.00\">AddmmBackward0</text>\n",
       "</g>\n",
       "<!-- 139876494102144&#45;&gt;139876494113664 -->\n",
       "<g id=\"edge6\" class=\"edge\">\n",
       "<title>139876494102144&#45;&gt;139876494113664</title>\n",
       "<path fill=\"none\" stroke=\"black\" d=\"M163.09,-292.37C163.65,-284.25 164.5,-271.81 165.21,-261.39\"/>\n",
       "<polygon fill=\"black\" stroke=\"black\" points=\"168.72,-261.38 165.91,-251.17 161.73,-260.91 168.72,-261.38\"/>\n",
       "</g>\n",
       "<!-- 139876494103152 -->\n",
       "<g id=\"node9\" class=\"node\">\n",
       "<title>139876494103152</title>\n",
       "<polygon fill=\"lightgrey\" stroke=\"black\" points=\"118,-377.5 17,-377.5 17,-358.5 118,-358.5 118,-377.5\"/>\n",
       "<text text-anchor=\"middle\" x=\"67.5\" y=\"-365.5\" font-family=\"monospace\" font-size=\"10.00\">AccumulateGrad</text>\n",
       "</g>\n",
       "<!-- 139876494103152&#45;&gt;139876494102144 -->\n",
       "<g id=\"edge7\" class=\"edge\">\n",
       "<title>139876494103152&#45;&gt;139876494102144</title>\n",
       "<path fill=\"none\" stroke=\"black\" d=\"M80.31,-358.37C95.89,-347.87 122.43,-330 141.12,-317.4\"/>\n",
       "<polygon fill=\"black\" stroke=\"black\" points=\"143.25,-320.19 149.59,-311.7 139.34,-314.38 143.25,-320.19\"/>\n",
       "</g>\n",
       "<!-- 139873686298976 -->\n",
       "<g id=\"node10\" class=\"node\">\n",
       "<title>139873686298976</title>\n",
       "<polygon fill=\"lightblue\" stroke=\"black\" points=\"97,-449 38,-449 38,-419 97,-419 97,-449\"/>\n",
       "<text text-anchor=\"middle\" x=\"67.5\" y=\"-437\" font-family=\"monospace\" font-size=\"10.00\">l1.bias</text>\n",
       "<text text-anchor=\"middle\" x=\"67.5\" y=\"-426\" font-family=\"monospace\" font-size=\"10.00\"> (128)</text>\n",
       "</g>\n",
       "<!-- 139873686298976&#45;&gt;139876494103152 -->\n",
       "<g id=\"edge8\" class=\"edge\">\n",
       "<title>139873686298976&#45;&gt;139876494103152</title>\n",
       "<path fill=\"none\" stroke=\"black\" d=\"M67.5,-418.8C67.5,-409.7 67.5,-397.79 67.5,-387.9\"/>\n",
       "<polygon fill=\"black\" stroke=\"black\" points=\"71,-387.84 67.5,-377.84 64,-387.84 71,-387.84\"/>\n",
       "</g>\n",
       "<!-- 139876494113760 -->\n",
       "<g id=\"node11\" class=\"node\">\n",
       "<title>139876494113760</title>\n",
       "<polygon fill=\"lightgrey\" stroke=\"black\" points=\"213,-377.5 136,-377.5 136,-358.5 213,-358.5 213,-377.5\"/>\n",
       "<text text-anchor=\"middle\" x=\"174.5\" y=\"-365.5\" font-family=\"monospace\" font-size=\"10.00\">TBackward0</text>\n",
       "</g>\n",
       "<!-- 139876494113760&#45;&gt;139876494102144 -->\n",
       "<g id=\"edge9\" class=\"edge\">\n",
       "<title>139876494113760&#45;&gt;139876494102144</title>\n",
       "<path fill=\"none\" stroke=\"black\" d=\"M172.88,-358.37C171.14,-349.07 168.31,-333.98 166.04,-321.9\"/>\n",
       "<polygon fill=\"black\" stroke=\"black\" points=\"169.45,-321.09 164.17,-311.91 162.57,-322.38 169.45,-321.09\"/>\n",
       "</g>\n",
       "<!-- 139876494102336 -->\n",
       "<g id=\"node12\" class=\"node\">\n",
       "<title>139876494102336</title>\n",
       "<polygon fill=\"lightgrey\" stroke=\"black\" points=\"225,-443.5 124,-443.5 124,-424.5 225,-424.5 225,-443.5\"/>\n",
       "<text text-anchor=\"middle\" x=\"174.5\" y=\"-431.5\" font-family=\"monospace\" font-size=\"10.00\">AccumulateGrad</text>\n",
       "</g>\n",
       "<!-- 139876494102336&#45;&gt;139876494113760 -->\n",
       "<g id=\"edge10\" class=\"edge\">\n",
       "<title>139876494102336&#45;&gt;139876494113760</title>\n",
       "<path fill=\"none\" stroke=\"black\" d=\"M174.5,-424.37C174.5,-415.16 174.5,-400.29 174.5,-388.27\"/>\n",
       "<polygon fill=\"black\" stroke=\"black\" points=\"178,-387.91 174.5,-377.91 171,-387.91 178,-387.91\"/>\n",
       "</g>\n",
       "<!-- 139876494910752 -->\n",
       "<g id=\"node13\" class=\"node\">\n",
       "<title>139876494910752</title>\n",
       "<polygon fill=\"lightblue\" stroke=\"black\" points=\"216,-515 133,-515 133,-485 216,-485 216,-515\"/>\n",
       "<text text-anchor=\"middle\" x=\"174.5\" y=\"-503\" font-family=\"monospace\" font-size=\"10.00\">l1.weight</text>\n",
       "<text text-anchor=\"middle\" x=\"174.5\" y=\"-492\" font-family=\"monospace\" font-size=\"10.00\"> (128, 784)</text>\n",
       "</g>\n",
       "<!-- 139876494910752&#45;&gt;139876494102336 -->\n",
       "<g id=\"edge11\" class=\"edge\">\n",
       "<title>139876494910752&#45;&gt;139876494102336</title>\n",
       "<path fill=\"none\" stroke=\"black\" d=\"M174.5,-484.8C174.5,-475.7 174.5,-463.79 174.5,-453.9\"/>\n",
       "<polygon fill=\"black\" stroke=\"black\" points=\"178,-453.84 174.5,-443.84 171,-453.84 178,-453.84\"/>\n",
       "</g>\n",
       "<!-- 139876494102672 -->\n",
       "<g id=\"node14\" class=\"node\">\n",
       "<title>139876494102672</title>\n",
       "<polygon fill=\"lightgrey\" stroke=\"black\" points=\"313,-251 236,-251 236,-232 313,-232 313,-251\"/>\n",
       "<text text-anchor=\"middle\" x=\"274.5\" y=\"-239\" font-family=\"monospace\" font-size=\"10.00\">TBackward0</text>\n",
       "</g>\n",
       "<!-- 139876494102672&#45;&gt;139876494114528 -->\n",
       "<g id=\"edge12\" class=\"edge\">\n",
       "<title>139876494102672&#45;&gt;139876494114528</title>\n",
       "<path fill=\"none\" stroke=\"black\" d=\"M257.15,-231.98C239.93,-223.54 213.3,-210.47 193.35,-200.68\"/>\n",
       "<polygon fill=\"black\" stroke=\"black\" points=\"194.69,-197.43 184.17,-196.17 191.6,-203.72 194.69,-197.43\"/>\n",
       "</g>\n",
       "<!-- 139876494109632 -->\n",
       "<g id=\"node15\" class=\"node\">\n",
       "<title>139876494109632</title>\n",
       "<polygon fill=\"lightgrey\" stroke=\"black\" points=\"332,-311.5 231,-311.5 231,-292.5 332,-292.5 332,-311.5\"/>\n",
       "<text text-anchor=\"middle\" x=\"281.5\" y=\"-299.5\" font-family=\"monospace\" font-size=\"10.00\">AccumulateGrad</text>\n",
       "</g>\n",
       "<!-- 139876494109632&#45;&gt;139876494102672 -->\n",
       "<g id=\"edge13\" class=\"edge\">\n",
       "<title>139876494109632&#45;&gt;139876494102672</title>\n",
       "<path fill=\"none\" stroke=\"black\" d=\"M280.47,-292.37C279.5,-284.25 278.01,-271.81 276.76,-261.39\"/>\n",
       "<polygon fill=\"black\" stroke=\"black\" points=\"280.2,-260.68 275.54,-251.17 273.25,-261.51 280.2,-260.68\"/>\n",
       "</g>\n",
       "<!-- 139876497411104 -->\n",
       "<g id=\"node16\" class=\"node\">\n",
       "<title>139876497411104</title>\n",
       "<polygon fill=\"lightblue\" stroke=\"black\" points=\"320,-383 243,-383 243,-353 320,-353 320,-383\"/>\n",
       "<text text-anchor=\"middle\" x=\"281.5\" y=\"-371\" font-family=\"monospace\" font-size=\"10.00\">l2.weight</text>\n",
       "<text text-anchor=\"middle\" x=\"281.5\" y=\"-360\" font-family=\"monospace\" font-size=\"10.00\"> (10, 128)</text>\n",
       "</g>\n",
       "<!-- 139876497411104&#45;&gt;139876494109632 -->\n",
       "<g id=\"edge14\" class=\"edge\">\n",
       "<title>139876497411104&#45;&gt;139876494109632</title>\n",
       "<path fill=\"none\" stroke=\"black\" d=\"M281.5,-352.8C281.5,-343.7 281.5,-331.79 281.5,-321.9\"/>\n",
       "<polygon fill=\"black\" stroke=\"black\" points=\"285,-321.84 281.5,-311.84 278,-321.84 285,-321.84\"/>\n",
       "</g>\n",
       "</g>\n",
       "</svg>\n"
      ],
      "text/plain": [
       "<graphviz.graphs.Digraph at 0x7f3788be7cd0>"
      ]
     },
     "metadata": {},
     "output_type": "display_data"
    }
   ],
   "source": [
    "#  損失計算\n",
    "loss = criterion(outputs, labels)\n",
    "\n",
    "# 損失値の取得\n",
    "print(loss.item())\n",
    "\n",
    "# 損失の計算グラフ可視化\n",
    "g = make_dot(loss, params=dict(net.named_parameters()))\n",
    "display(g)"
   ]
  },
  {
   "cell_type": "code",
   "execution_count": 26,
   "metadata": {},
   "outputs": [],
   "source": [
    "# ..."
   ]
  },
  {
   "cell_type": "code",
   "execution_count": null,
   "metadata": {},
   "outputs": [],
   "source": [
    "# 繰り返し計算\n",
    "\n"
   ]
  }
 ],
 "metadata": {
  "kernelspec": {
   "display_name": "Python 3",
   "language": "python",
   "name": "python3"
  },
  "language_info": {
   "codemirror_mode": {
    "name": "ipython",
    "version": 3
   },
   "file_extension": ".py",
   "mimetype": "text/x-python",
   "name": "python",
   "nbconvert_exporter": "python",
   "pygments_lexer": "ipython3",
   "version": "3.10.6"
  },
  "orig_nbformat": 4
 },
 "nbformat": 4,
 "nbformat_minor": 2
}
