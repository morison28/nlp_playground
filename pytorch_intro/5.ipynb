{
 "cells": [
  {
   "cell_type": "markdown",
   "metadata": {},
   "source": [
    "# 5. 線形回帰\n",
    "\n",
    "## 5.1. 問題の定義\n",
    "- ボストンの住宅価格を線形回帰で予測するモデルを作る\n",
    "\n",
    "## 5.2. 本章で学ぶ重要概念\n",
    "- nn.Linear\n",
    "    - レイヤー関数を使ってみよう\n",
    "- nn.MSRLoss\n",
    "    - 損失関数もクラスで実装(全章のように自前で定義しない)\n",
    "- カスタムクラスを用いてモデル定義を行う\n",
    "\n",
    "## 5.3. 線形関数(nn.Linear)"
   ]
  },
  {
   "cell_type": "code",
   "execution_count": 32,
   "metadata": {},
   "outputs": [],
   "source": [
    "import pandas as pd\n",
    "import numpy as np\n",
    "import torch\n",
    "from torch import nn\n",
    "import matplotlib.pyplot as plt\n",
    "from torchinfo import summary\n",
    "from torch import optim"
   ]
  },
  {
   "cell_type": "code",
   "execution_count": 9,
   "metadata": {},
   "outputs": [],
   "source": [
    "# 入力2，出力3の線形関数の定義\n",
    "l3 = nn.Linear(2, 3)"
   ]
  },
  {
   "cell_type": "code",
   "execution_count": 13,
   "metadata": {},
   "outputs": [
    {
     "name": "stdout",
     "output_type": "stream",
     "text": [
      "Linear(in_features=1, out_features=1, bias=True)\n"
     ]
    },
    {
     "data": {
      "text/plain": [
       "Parameter containing:\n",
       "tensor([1.], requires_grad=True)"
      ]
     },
     "execution_count": 13,
     "metadata": {},
     "output_type": "execute_result"
    }
   ],
   "source": [
    "# 入力1，出力1の線形関数\n",
    "torch.manual_seed(123) # シードは固定する\n",
    "l1 = nn.Linear(1,1)\n",
    "print(l1)\n",
    "\n",
    "# 初期値を設定することもできる\n",
    "nn.init.constant_(l1.weight, 2.0)\n",
    "nn.init.constant_(l1.bias, 1.0)"
   ]
  },
  {
   "cell_type": "code",
   "execution_count": 14,
   "metadata": {},
   "outputs": [
    {
     "name": "stdout",
     "output_type": "stream",
     "text": [
      "name  : weight\n",
      "tensor: Parameter containing:\n",
      "tensor([[2.]], requires_grad=True)\n",
      "shape : torch.Size([1, 1])\n",
      "--------------------------------------------------\n",
      "name  : bias\n",
      "tensor: Parameter containing:\n",
      "tensor([1.], requires_grad=True)\n",
      "shape : torch.Size([1])\n",
      "--------------------------------------------------\n"
     ]
    }
   ],
   "source": [
    "# パラメータを確認してみる\n",
    "for param in l1.named_parameters():\n",
    "    print(f\"name  : {param[0]}\")\n",
    "    print(f\"tensor: {param[1]}\")\n",
    "    print(f\"shape : {param[1].shape}\")\n",
    "    print('-'*50)"
   ]
  },
  {
   "cell_type": "code",
   "execution_count": 15,
   "metadata": {},
   "outputs": [
    {
     "name": "stdout",
     "output_type": "stream",
     "text": [
      "torch.Size([5, 1])\n",
      "tensor([[-2.],\n",
      "        [-1.],\n",
      "        [ 0.],\n",
      "        [ 1.],\n",
      "        [ 2.]])\n"
     ]
    }
   ],
   "source": [
    "# テスト用データ\n",
    "x_np = np.arange(-2, 2.1, 1)\n",
    "x = torch.tensor(x_np).float()\n",
    "x = x.view(-1, 1)\n",
    "print(x.shape)\n",
    "print(x[:5])"
   ]
  },
  {
   "cell_type": "code",
   "execution_count": 16,
   "metadata": {},
   "outputs": [
    {
     "name": "stdout",
     "output_type": "stream",
     "text": [
      "torch.Size([5, 1])\n",
      "tensor([[-3.],\n",
      "        [-1.],\n",
      "        [ 1.],\n",
      "        [ 3.],\n",
      "        [ 5.]])\n"
     ]
    }
   ],
   "source": [
    "# テスト\n",
    "y = l1(x)\n",
    "print(y.shape)\n",
    "print(y.data[:5])"
   ]
  },
  {
   "cell_type": "code",
   "execution_count": 17,
   "metadata": {},
   "outputs": [
    {
     "name": "stdout",
     "output_type": "stream",
     "text": [
      "Parameter containing:\n",
      "tensor([[1., 1.]], requires_grad=True)\n",
      "Parameter containing:\n",
      "tensor([2.], requires_grad=True)\n"
     ]
    }
   ],
   "source": [
    "# 2入力1出力\n",
    "# 次節以降で実装する線形回帰はこの形\n",
    "# 2変数使って予測する\n",
    "l2 = nn.Linear(2, 1)\n",
    "nn.init.constant_(l2.weight, 1.0)\n",
    "nn.init.constant_(l2.bias, 2.0)\n",
    "print(l2.weight) # 重みが2つあることが確認できる\n",
    "print(l2.bias)"
   ]
  },
  {
   "cell_type": "code",
   "execution_count": 18,
   "metadata": {},
   "outputs": [],
   "source": [
    "# 2入力3出力とかあるけど，大体同じなので省略"
   ]
  },
  {
   "cell_type": "markdown",
   "metadata": {},
   "source": [
    "## 5.4. カスタムクラスを利用したモデル定義\n",
    "\n",
    "- 予測関数を構築する際に使用する\n",
    "- Netというクラスを作成して，レイヤ－をまとめる\n",
    "- 実装はどうせ重回帰でやるので割愛"
   ]
  },
  {
   "cell_type": "markdown",
   "metadata": {},
   "source": [
    "## 5.5. MSELossクラスを利用した損失関数\n",
    "\n",
    "- 損失計算と勾配計算をまとめてやってくれるよ"
   ]
  },
  {
   "cell_type": "markdown",
   "metadata": {},
   "source": [
    "## 5.6. データ準備\n"
   ]
  },
  {
   "cell_type": "code",
   "execution_count": 19,
   "metadata": {},
   "outputs": [
    {
     "name": "stdout",
     "output_type": "stream",
     "text": [
      "元データ (506, 13) (506,)\n",
      "項目名:  ['CRIM' 'ZN' 'INDUS' 'CHAS' 'NOX' 'RM' 'AGE' 'DIS' 'RAD' 'TAX' 'PTRATIO'\n",
      " 'B' 'LSTAT']\n"
     ]
    }
   ],
   "source": [
    "# 学習用データ準備\n",
    "\n",
    "# 「ボストン・データセット」はscikit-learnのライブラリでも取得できるが、\n",
    "# その場合、将来版で利用できなくなる予定のため、別Webサイトから取得する\n",
    "data_url = \"http://lib.stat.cmu.edu/datasets/boston\"\n",
    "raw_df = pd.read_csv(data_url, sep=\"\\s+\", \n",
    "    skiprows=22, header=None)\n",
    "x_org = np.hstack([raw_df.values[::2, :], \n",
    "    raw_df.values[1::2, :2]])\n",
    "yt = raw_df.values[1::2, 2]\n",
    "feature_names = np.array(['CRIM', 'ZN', 'INDUS', 'CHAS', 'NOX',\n",
    "    'RM', 'AGE', 'DIS', 'RAD', 'TAX', 'PTRATIO','B', 'LSTAT'])\n",
    "\n",
    "# 結果確認\n",
    "print('元データ', x_org.shape, yt.shape)\n",
    "print('項目名: ', feature_names)"
   ]
  },
  {
   "cell_type": "code",
   "execution_count": 25,
   "metadata": {},
   "outputs": [
    {
     "data": {
      "image/png": "[encoded data removed]",
      "text/plain": [
       "<Figure size 500x500 with 1 Axes>"
      ]
     },
     "metadata": {},
     "output_type": "display_data"
    }
   ],
   "source": [
    "# データの確認\n",
    "# 今回は犯罪率と部屋数を使う\n",
    "\n",
    "x = x_org[:, feature_names == 'RM'] # 部屋数\n",
    "\n",
    "# 目的関数との関係を可視化する\n",
    "plt.figure(figsize=(5, 5))\n",
    "plt.scatter(x, yt, s=10, c='b')\n",
    "plt.xlabel('RM')\n",
    "plt.ylabel('Price')\n",
    "plt.grid()\n",
    "plt.show()"
   ]
  },
  {
   "cell_type": "markdown",
   "metadata": {},
   "source": [
    "## 5.7. モデル定義"
   ]
  },
  {
   "cell_type": "code",
   "execution_count": 49,
   "metadata": {},
   "outputs": [
    {
     "name": "stdout",
     "output_type": "stream",
     "text": [
      "torch.Size([506, 1])\n",
      "torch.Size([506])\n",
      "var_name : l1.weight\n",
      "var_value: tensor([[1.]])\n",
      "var_name : l1.bias\n",
      "var_value: tensor([1.])\n",
      "Net(\n",
      "  (l1): Linear(in_features=1, out_features=1, bias=True)\n",
      ")\n"
     ]
    }
   ],
   "source": [
    "# 入力次元数\n",
    "n_input = x.shape[1] # 1 : 1変数なので1\n",
    "# 出力次元数\n",
    "n_output = 1\n",
    "\n",
    "# 入力変数x と正解値 ytのテンソル変数化\n",
    "inputs = torch.tensor(x).float()\n",
    "labels = torch.tensor(yt).float()\n",
    "# 次元数確認\n",
    "\n",
    "print(inputs.shape)\n",
    "print(labels.shape)\n",
    "\n",
    "class Net(nn.Module):\n",
    "    def __init__(self, n_input, n_output) -> None:\n",
    "        \n",
    "        super().__init__()\n",
    "\n",
    "        self.l1 = nn.Linear(n_input, n_output)\n",
    "        # パラメータの初期値は1にしておく\n",
    "        nn.init.constant_(self.l1.weight, 1.0)\n",
    "        nn.init.constant_(self.l1.bias, 1.0)\n",
    "\n",
    "    # 予測関数\n",
    "    def forward(self, x):\n",
    "        x1 = self.l1(x) # ここで線形回帰している\n",
    "        return x1\n",
    "    \n",
    "\n",
    "net = Net(n_input, n_output)\n",
    "\n",
    "for param in net.named_parameters():\n",
    "    print(f\"var_name : {param[0]}\")\n",
    "    print(f\"var_value: {param[1].data}\")\n",
    "\n",
    "print(net)"
   ]
  },
  {
   "cell_type": "code",
   "execution_count": 31,
   "metadata": {},
   "outputs": [
    {
     "data": {
      "text/plain": [
       "==========================================================================================\n",
       "Layer (type:depth-idx)                   Output Shape              Param #\n",
       "==========================================================================================\n",
       "Net                                      [1]                       --\n",
       "├─Linear: 1-1                            [1]                       2\n",
       "==========================================================================================\n",
       "Total params: 2\n",
       "Trainable params: 2\n",
       "Non-trainable params: 0\n",
       "Total mult-adds (M): 0.00\n",
       "==========================================================================================\n",
       "Input size (MB): 0.00\n",
       "Forward/backward pass size (MB): 0.00\n",
       "Params size (MB): 0.00\n",
       "Estimated Total Size (MB): 0.00\n",
       "=========================================================================================="
      ]
     },
     "execution_count": 31,
     "metadata": {},
     "output_type": "execute_result"
    }
   ],
   "source": [
    "# こういうのもある\n",
    "summary(net, (1,))"
   ]
  },
  {
   "cell_type": "markdown",
   "metadata": {},
   "source": [
    "## 5.8. 勾配降下法"
   ]
  },
  {
   "cell_type": "code",
   "execution_count": 60,
   "metadata": {},
   "outputs": [],
   "source": [
    "# 損失計算のために，ラベルをN,1の形式に変換する\n",
    "labels1 = labels.view((-1, 1))\n",
    "\n",
    "lr = 1e-2\n",
    "# 1入力1出力の線形レイヤを持つモデル\n",
    "net = Net(n_input, n_output)\n",
    "# 損失関数\n",
    "criterion = nn.MSELoss()\n",
    "# 最適化関数\n",
    "optimizer = optim.SGD(net.parameters(), lr=lr)\n",
    "# 繰り返し回数\n",
    "n_epochs = 50000\n",
    "# 結果記録\n",
    "history = np.zeros((0, 2))\n",
    "\n",
    "for epoch in range(n_epochs):\n",
    "    # 勾配値初期化\n",
    "    optimizer.zero_grad()\n",
    "    # 予測計算\n",
    "    outputs = net(inputs)\n",
    "    # 損失計算\n",
    "    # 2で割っている？\n",
    "    loss = criterion(outputs, labels1) / 2.0\n",
    "    # 勾配計算\n",
    "    loss.backward()\n",
    "    # パラメータを更新\n",
    "    optimizer.step()\n",
    "\n",
    "    if epoch % 100 == 0:\n",
    "        history = np.vstack((history, np.array([epoch, loss.item()])))"
   ]
  },
  {
   "cell_type": "markdown",
   "metadata": {},
   "source": [
    "## 5.9. 結果確認"
   ]
  },
  {
   "cell_type": "code",
   "execution_count": 61,
   "metadata": {},
   "outputs": [
    {
     "data": {
      "image/png": "[encoded data removed]",
      "text/plain": [
       "<Figure size 500x500 with 1 Axes>"
      ]
     },
     "metadata": {},
     "output_type": "display_data"
    }
   ],
   "source": [
    "# 可視化して確認\n",
    "plt.figure(figsize=(5,5))\n",
    "plt.plot(history[1:, 0], history[1:, 1], color='blue')\n",
    "plt.xlabel('num_epoch')\n",
    "plt.ylabel('loss(MSE)')\n",
    "plt.grid(axis='y', color='gray')\n",
    "plt.show()"
   ]
  },
  {
   "cell_type": "code",
   "execution_count": 63,
   "metadata": {},
   "outputs": [
    {
     "data": {
      "image/png": "[encoded data removed]",
      "text/plain": [
       "<Figure size 500x500 with 1 Axes>"
      ]
     },
     "metadata": {},
     "output_type": "display_data"
    }
   ],
   "source": [
    "# いい感じに回帰できている！\n",
    "\n",
    "xse = np.array((x.min(), x.max())).reshape(-1, 1)\n",
    "Xse = torch.tensor(xse).float()\n",
    "\n",
    "with torch.no_grad():\n",
    "    Yse = net(Xse)\n",
    "\n",
    "plt.figure(figsize=(5,5))\n",
    "plt.scatter(x, yt, s=10, c='blue')\n",
    "plt.plot(Xse.data, Yse.data, c='red')\n",
    "plt.xlabel('RM')\n",
    "plt.ylabel('Price')\n",
    "plt.title('prediction result')\n",
    "plt.grid()\n",
    "plt.show()"
   ]
  },
  {
   "cell_type": "markdown",
   "metadata": {},
   "source": [
    "## 5.10. 重回帰モデルへの拡張 & 5.11. 学習率の変更\n",
    "\n",
    "- epochが50000も必要なさそうなので，これを減らす\n",
    "- 学習率を減らす\n",
    "    - 結論からいうと学習率を減らすと精度が上がるので，大事な調整要素だとわかる"
   ]
  },
  {
   "cell_type": "code",
   "execution_count": 64,
   "metadata": {},
   "outputs": [
    {
     "name": "stdout",
     "output_type": "stream",
     "text": [
      "(506, 2)\n",
      "[[6.575 4.98 ]\n",
      " [6.421 9.14 ]\n",
      " [7.185 4.03 ]\n",
      " [6.998 2.94 ]\n",
      " [7.147 5.33 ]]\n"
     ]
    }
   ],
   "source": [
    "x_add = x_org[:, feature_names == 'LSTAT']\n",
    "x2 = np.hstack((x, x_add))\n",
    "print(x2.shape)\n",
    "print(x2[:5, :])"
   ]
  },
  {
   "cell_type": "code",
   "execution_count": 67,
   "metadata": {},
   "outputs": [
    {
     "name": "stdout",
     "output_type": "stream",
     "text": [
      "MODEL PARAMETERS\n",
      "var name : l1.weight\n",
      "var value: tensor([[1., 1.]])\n",
      "var name : l1.bias\n",
      "var value: tensor([1.])\n"
     ]
    }
   ],
   "source": [
    "# 再掲\n",
    "class Net(nn.Module):\n",
    "    def __init__(self, n_input, n_output) -> None:\n",
    "        \n",
    "        super().__init__()\n",
    "\n",
    "        self.l1 = nn.Linear(n_input, n_output)\n",
    "        # パラメータの初期値は1にしておく\n",
    "        nn.init.constant_(self.l1.weight, 1.0)\n",
    "        nn.init.constant_(self.l1.bias, 1.0)\n",
    "\n",
    "    # 予測関数\n",
    "    def forward(self, x):\n",
    "        x1 = self.l1(x) # ここで線形回帰している\n",
    "        return x1\n",
    "\n",
    "# ここは変わる\n",
    "# 入力次元数\n",
    "n_input = x2.shape[1] # 2：2変数に増やしたから\n",
    "# 出力次元数\n",
    "n_output = 1\n",
    "\n",
    "net = Net(n_input, n_output)\n",
    "\n",
    "print('MODEL PARAMETERS')\n",
    "for param in net.named_parameters():\n",
    "    print(f\"var name : {param[0]}\")\n",
    "    print(f\"var value: {param[1].data}\")"
   ]
  },
  {
   "cell_type": "code",
   "execution_count": 68,
   "metadata": {},
   "outputs": [],
   "source": [
    "inputs = torch.tensor(x2).float()\n",
    "# labels1はそのまま使える"
   ]
  },
  {
   "cell_type": "code",
   "execution_count": 69,
   "metadata": {},
   "outputs": [],
   "source": [
    "# 初期化処理\n",
    "\n",
    "# 学習率\n",
    "lr = 0.001\n",
    "\n",
    "# インスタンス生成　(パラメータ値初期化)\n",
    "net = Net(n_input, n_output)\n",
    "\n",
    "# 損失関数： 平均2乗誤差\n",
    "criterion = nn.MSELoss()\n",
    "\n",
    "# 最適化関数: 勾配降下法\n",
    "optimizer = optim.SGD(net.parameters(), lr=lr)\n",
    "\n",
    "# 繰り返し回数\n",
    "num_epochs = 2000 \n",
    "\n",
    "# 評価結果記録用 (損失関数値のみ記録)\n",
    "history = np.zeros((0,2))"
   ]
  },
  {
   "cell_type": "code",
   "execution_count": 70,
   "metadata": {},
   "outputs": [
    {
     "name": "stdout",
     "output_type": "stream",
     "text": [
      "Epoch 0 loss: 112.06398\n",
      "Epoch 100 loss: 25.35892\n",
      "Epoch 200 loss: 16.39105\n",
      "Epoch 300 loss: 15.40301\n",
      "Epoch 400 loss: 15.29414\n",
      "Epoch 500 loss: 15.28211\n",
      "Epoch 600 loss: 15.28076\n",
      "Epoch 700 loss: 15.28059\n",
      "Epoch 800 loss: 15.28054\n",
      "Epoch 900 loss: 15.28051\n",
      "Epoch 1000 loss: 15.28048\n",
      "Epoch 1100 loss: 15.28046\n",
      "Epoch 1200 loss: 15.28043\n",
      "Epoch 1300 loss: 15.28040\n",
      "Epoch 1400 loss: 15.28037\n",
      "Epoch 1500 loss: 15.28034\n",
      "Epoch 1600 loss: 15.28031\n",
      "Epoch 1700 loss: 15.28028\n",
      "Epoch 1800 loss: 15.28026\n",
      "Epoch 1900 loss: 15.28023\n"
     ]
    }
   ],
   "source": [
    "# 繰り返し計算メインループ\n",
    "\n",
    "for epoch in range(num_epochs):\n",
    "    \n",
    "    # 勾配値初期化\n",
    "    optimizer.zero_grad()\n",
    "\n",
    "    # 予測計算\n",
    "    outputs = net(inputs)\n",
    "  \n",
    "    # 誤差計算\n",
    "    # 「ディープラーニングの数学」に合わせて2で割った値を損失とした\n",
    "    loss = criterion(outputs, labels1) / 2.0\n",
    "\n",
    "    # 勾配計算\n",
    "    loss.backward()\n",
    "\n",
    "    # パラメータ修正\n",
    "    optimizer.step()\n",
    "\n",
    "    # 100回ごとに途中経過を記録する\n",
    "    if ( epoch % 100 == 0):\n",
    "        history = np.vstack((history, np.array([epoch, loss.item()])))\n",
    "        print(f'Epoch {epoch} loss: {loss.item():.5f}')"
   ]
  },
  {
   "cell_type": "code",
   "execution_count": 71,
   "metadata": {},
   "outputs": [
    {
     "data": {
      "image/png": "[encoded data removed]",
      "text/plain": [
       "<Figure size 500x500 with 1 Axes>"
      ]
     },
     "metadata": {},
     "output_type": "display_data"
    }
   ],
   "source": [
    "# 可視化して確認(よりロスがすくなっておりちゃんと学習できている)\n",
    "plt.figure(figsize=(5,5))\n",
    "plt.plot(history[1:, 0], history[1:, 1], color='blue')\n",
    "plt.xlabel('num_epoch')\n",
    "plt.ylabel('loss(MSE)')\n",
    "plt.grid(axis='y', color='gray')\n",
    "plt.show()"
   ]
  },
  {
   "cell_type": "code",
   "execution_count": null,
   "metadata": {},
   "outputs": [],
   "source": []
  }
 ],
 "metadata": {
  "kernelspec": {
   "display_name": "Python 3",
   "language": "python",
   "name": "python3"
  },
  "language_info": {
   "codemirror_mode": {
    "name": "ipython",
    "version": 3
   },
   "file_extension": ".py",
   "mimetype": "text/x-python",
   "name": "python",
   "nbconvert_exporter": "python",
   "pygments_lexer": "ipython3",
   "version": "3.10.6"
  },
  "orig_nbformat": 4
 },
 "nbformat": 4,
 "nbformat_minor": 2
}
