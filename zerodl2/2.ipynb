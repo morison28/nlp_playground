{
 "cells": [
  {
   "cell_type": "markdown",
   "metadata": {},
   "source": [
    "## 2. 自然言語と単語の分散表現\n",
    "- DL登場以前の手法について詳しく見ていく"
   ]
  },
  {
   "cell_type": "markdown",
   "metadata": {},
   "source": [
    "- 単語の意味を表現する方法\n",
    "    - シソーラスによる手法 : 本章\n",
    "    - カウントベースの手法 : 本章\n",
    "    - 推論ベースの手法(word2vec) : 次章"
   ]
  },
  {
   "cell_type": "markdown",
   "metadata": {},
   "source": [
    "- シソーラス\n",
    "    - 単語の意味ネットワークを辞書として使う\n",
    "    - WordNet\n",
    "        - 1985年にプリンストン大学で開発がスタート\n",
    "- シソーラスの問題点\n",
    "    - 人力で意味ネットワークを作るので作業コストが高い\n",
    "    - 時代の変化などに対応するのが困難\n",
    "    - 単語の細かなニュアンスが把握できない"
   ]
  },
  {
   "cell_type": "markdown",
   "metadata": {},
   "source": [
    "- カウントベース\n",
    "    - コーパスを利用する\n",
    "        - コーパスは，NLPの研究やアプリケーションの開発のために収集された大量のテキストデータ"
   ]
  },
  {
   "cell_type": "code",
   "execution_count": 11,
   "metadata": {},
   "outputs": [
    {
     "data": {
      "text/html": [
       "<pre style=\"white-space:pre;overflow-x:auto;line-height:normal;font-family:Menlo,'DejaVu Sans Mono',consolas,'Courier New',monospace\"><span style=\"font-weight: bold\">[</span><span style=\"color: #008000; text-decoration-color: #008000\">'you'</span>, <span style=\"color: #008000; text-decoration-color: #008000\">'say'</span>, <span style=\"color: #008000; text-decoration-color: #008000\">'goodbye'</span>, <span style=\"color: #008000; text-decoration-color: #008000\">'and'</span>, <span style=\"color: #008000; text-decoration-color: #008000\">'i'</span>, <span style=\"color: #008000; text-decoration-color: #008000\">'say'</span>, <span style=\"color: #008000; text-decoration-color: #008000\">'hello'</span>, <span style=\"color: #008000; text-decoration-color: #008000\">'.'</span><span style=\"font-weight: bold\">]</span>\n",
       "</pre>\n"
      ],
      "text/plain": [
       "\u001b[1m[\u001b[0m\u001b[32m'you'\u001b[0m, \u001b[32m'say'\u001b[0m, \u001b[32m'goodbye'\u001b[0m, \u001b[32m'and'\u001b[0m, \u001b[32m'i'\u001b[0m, \u001b[32m'say'\u001b[0m, \u001b[32m'hello'\u001b[0m, \u001b[32m'.'\u001b[0m\u001b[1m]\u001b[0m\n"
      ]
     },
     "metadata": {},
     "output_type": "display_data"
    },
    {
     "data": {
      "text/html": [
       "<pre style=\"white-space:pre;overflow-x:auto;line-height:normal;font-family:Menlo,'DejaVu Sans Mono',consolas,'Courier New',monospace\">word2id: <span style=\"font-weight: bold\">{</span><span style=\"color: #008000; text-decoration-color: #008000\">'you'</span>: <span style=\"color: #008080; text-decoration-color: #008080; font-weight: bold\">0</span>, <span style=\"color: #008000; text-decoration-color: #008000\">'say'</span>: <span style=\"color: #008080; text-decoration-color: #008080; font-weight: bold\">1</span>, <span style=\"color: #008000; text-decoration-color: #008000\">'goodbye'</span>: <span style=\"color: #008080; text-decoration-color: #008080; font-weight: bold\">2</span>, <span style=\"color: #008000; text-decoration-color: #008000\">'and'</span>: <span style=\"color: #008080; text-decoration-color: #008080; font-weight: bold\">3</span>, <span style=\"color: #008000; text-decoration-color: #008000\">'i'</span>: <span style=\"color: #008080; text-decoration-color: #008080; font-weight: bold\">4</span>, <span style=\"color: #008000; text-decoration-color: #008000\">'hello'</span>: <span style=\"color: #008080; text-decoration-color: #008080; font-weight: bold\">5</span>, <span style=\"color: #008000; text-decoration-color: #008000\">'.'</span>: <span style=\"color: #008080; text-decoration-color: #008080; font-weight: bold\">6</span><span style=\"font-weight: bold\">}</span>\n",
       "</pre>\n"
      ],
      "text/plain": [
       "word2id: \u001b[1m{\u001b[0m\u001b[32m'you'\u001b[0m: \u001b[1;36m0\u001b[0m, \u001b[32m'say'\u001b[0m: \u001b[1;36m1\u001b[0m, \u001b[32m'goodbye'\u001b[0m: \u001b[1;36m2\u001b[0m, \u001b[32m'and'\u001b[0m: \u001b[1;36m3\u001b[0m, \u001b[32m'i'\u001b[0m: \u001b[1;36m4\u001b[0m, \u001b[32m'hello'\u001b[0m: \u001b[1;36m5\u001b[0m, \u001b[32m'.'\u001b[0m: \u001b[1;36m6\u001b[0m\u001b[1m}\u001b[0m\n"
      ]
     },
     "metadata": {},
     "output_type": "display_data"
    },
    {
     "data": {
      "text/html": [
       "<pre style=\"white-space:pre;overflow-x:auto;line-height:normal;font-family:Menlo,'DejaVu Sans Mono',consolas,'Courier New',monospace\">id2word: <span style=\"font-weight: bold\">{</span><span style=\"color: #008080; text-decoration-color: #008080; font-weight: bold\">0</span>: <span style=\"color: #008000; text-decoration-color: #008000\">'you'</span>, <span style=\"color: #008080; text-decoration-color: #008080; font-weight: bold\">1</span>: <span style=\"color: #008000; text-decoration-color: #008000\">'say'</span>, <span style=\"color: #008080; text-decoration-color: #008080; font-weight: bold\">2</span>: <span style=\"color: #008000; text-decoration-color: #008000\">'goodbye'</span>, <span style=\"color: #008080; text-decoration-color: #008080; font-weight: bold\">3</span>: <span style=\"color: #008000; text-decoration-color: #008000\">'and'</span>, <span style=\"color: #008080; text-decoration-color: #008080; font-weight: bold\">4</span>: <span style=\"color: #008000; text-decoration-color: #008000\">'i'</span>, <span style=\"color: #008080; text-decoration-color: #008080; font-weight: bold\">5</span>: <span style=\"color: #008000; text-decoration-color: #008000\">'hello'</span>, <span style=\"color: #008080; text-decoration-color: #008080; font-weight: bold\">6</span>: <span style=\"color: #008000; text-decoration-color: #008000\">'.'</span><span style=\"font-weight: bold\">}</span>\n",
       "</pre>\n"
      ],
      "text/plain": [
       "id2word: \u001b[1m{\u001b[0m\u001b[1;36m0\u001b[0m: \u001b[32m'you'\u001b[0m, \u001b[1;36m1\u001b[0m: \u001b[32m'say'\u001b[0m, \u001b[1;36m2\u001b[0m: \u001b[32m'goodbye'\u001b[0m, \u001b[1;36m3\u001b[0m: \u001b[32m'and'\u001b[0m, \u001b[1;36m4\u001b[0m: \u001b[32m'i'\u001b[0m, \u001b[1;36m5\u001b[0m: \u001b[32m'hello'\u001b[0m, \u001b[1;36m6\u001b[0m: \u001b[32m'.'\u001b[0m\u001b[1m}\u001b[0m\n"
      ]
     },
     "metadata": {},
     "output_type": "display_data"
    },
    {
     "data": {
      "text/html": [
       "<pre style=\"white-space:pre;overflow-x:auto;line-height:normal;font-family:Menlo,'DejaVu Sans Mono',consolas,'Courier New',monospace\"><span style=\"font-weight: bold\">[</span><span style=\"color: #008080; text-decoration-color: #008080; font-weight: bold\">0</span> <span style=\"color: #008080; text-decoration-color: #008080; font-weight: bold\">1</span> <span style=\"color: #008080; text-decoration-color: #008080; font-weight: bold\">2</span> <span style=\"color: #008080; text-decoration-color: #008080; font-weight: bold\">3</span> <span style=\"color: #008080; text-decoration-color: #008080; font-weight: bold\">4</span> <span style=\"color: #008080; text-decoration-color: #008080; font-weight: bold\">1</span> <span style=\"color: #008080; text-decoration-color: #008080; font-weight: bold\">5</span> <span style=\"color: #008080; text-decoration-color: #008080; font-weight: bold\">6</span><span style=\"font-weight: bold\">]</span>\n",
       "</pre>\n"
      ],
      "text/plain": [
       "\u001b[1m[\u001b[0m\u001b[1;36m0\u001b[0m \u001b[1;36m1\u001b[0m \u001b[1;36m2\u001b[0m \u001b[1;36m3\u001b[0m \u001b[1;36m4\u001b[0m \u001b[1;36m1\u001b[0m \u001b[1;36m5\u001b[0m \u001b[1;36m6\u001b[0m\u001b[1m]\u001b[0m\n"
      ]
     },
     "metadata": {},
     "output_type": "display_data"
    }
   ],
   "source": [
    "from rich import print\n",
    "import numpy as np\n",
    "\n",
    "#\n",
    "# コーパスの下準備\n",
    "#\n",
    "\n",
    "# テキストから単語への分割\n",
    "# 小さなテキストでやってみる(本来は何千，何万を超えるテキスト)\n",
    "text = 'You say goodbye and I say hello.'\n",
    "text = text.lower().replace('.', ' .')\n",
    "words = text.split(' ')\n",
    "print(words)\n",
    "\n",
    "word2id = {}\n",
    "id2word = {}\n",
    "for word in words:\n",
    "    if word not in word2id:\n",
    "        new_id = len(word2id)\n",
    "        word2id[word] = new_id\n",
    "        id2word[new_id] = word\n",
    "print(f\"word2id: {word2id}\")\n",
    "print(f\"id2word: {id2word}\")\n",
    "\n",
    "# 単語のリストを単語のIDリストに変換\n",
    "corpus = np.array([word2id[w] for w in words])\n",
    "print(corpus)"
   ]
  },
  {
   "cell_type": "code",
   "execution_count": 12,
   "metadata": {},
   "outputs": [],
   "source": [
    "#\n",
    "# 関数化しておく\n",
    "# \n",
    "\n",
    "def preprocess(text):\n",
    "    \"\"\"\n",
    "    文章からコーパス，単語→ID，ID→単語リストの作成\n",
    "    \"\"\"\n",
    "    text = text.lower().replace('.', ' .')\n",
    "    words = text.split(' ')\n",
    "    word2id = {}\n",
    "    id2word = {}\n",
    "    for word in words:\n",
    "        if word not in word2id:\n",
    "            new_id = len(word2id)\n",
    "            word2id[word] = new_id\n",
    "            id2word[new_id] = word\n",
    "    # 単語リスト → IDリスト\n",
    "    corpus = np.array([word2id[w] for w in words])\n",
    "    return corpus, word2id, id2word"
   ]
  },
  {
   "cell_type": "markdown",
   "metadata": {},
   "source": [
    "- 単語の分散表現\n",
    "    - 単語の意味はベクトルで表現できる\n",
    "    - 色もRGBの3次元ベクトルで表現されるのと似たような考え方\n",
    "- 分布仮説\n",
    "    - 文章中の単語の意味は周囲の単語で決定されるという考え方\n",
    "- 共起行列\n",
    "    - 分布仮説に基づいて，単語をベクトルで表現する方法\n",
    "    - ある単語に注目したとき，その周囲にどのような単語が表れるのかをカウントする\n",
    "- コサイン類似度\n",
    "    - ベクトルの類似度を計算"
   ]
  },
  {
   "cell_type": "code",
   "execution_count": 13,
   "metadata": {},
   "outputs": [
    {
     "data": {
      "text/html": [
       "<pre style=\"white-space:pre;overflow-x:auto;line-height:normal;font-family:Menlo,'DejaVu Sans Mono',consolas,'Courier New',monospace\"><span style=\"font-weight: bold\">[</span><span style=\"color: #008080; text-decoration-color: #008080; font-weight: bold\">0</span> <span style=\"color: #008080; text-decoration-color: #008080; font-weight: bold\">1</span> <span style=\"color: #008080; text-decoration-color: #008080; font-weight: bold\">2</span> <span style=\"color: #008080; text-decoration-color: #008080; font-weight: bold\">3</span> <span style=\"color: #008080; text-decoration-color: #008080; font-weight: bold\">4</span> <span style=\"color: #008080; text-decoration-color: #008080; font-weight: bold\">1</span> <span style=\"color: #008080; text-decoration-color: #008080; font-weight: bold\">5</span> <span style=\"color: #008080; text-decoration-color: #008080; font-weight: bold\">6</span><span style=\"font-weight: bold\">]</span>\n",
       "</pre>\n"
      ],
      "text/plain": [
       "\u001b[1m[\u001b[0m\u001b[1;36m0\u001b[0m \u001b[1;36m1\u001b[0m \u001b[1;36m2\u001b[0m \u001b[1;36m3\u001b[0m \u001b[1;36m4\u001b[0m \u001b[1;36m1\u001b[0m \u001b[1;36m5\u001b[0m \u001b[1;36m6\u001b[0m\u001b[1m]\u001b[0m\n"
      ]
     },
     "metadata": {},
     "output_type": "display_data"
    },
    {
     "data": {
      "text/html": [
       "<pre style=\"white-space:pre;overflow-x:auto;line-height:normal;font-family:Menlo,'DejaVu Sans Mono',consolas,'Courier New',monospace\"><span style=\"font-weight: bold\">{</span><span style=\"color: #008080; text-decoration-color: #008080; font-weight: bold\">0</span>: <span style=\"color: #008000; text-decoration-color: #008000\">'you'</span>, <span style=\"color: #008080; text-decoration-color: #008080; font-weight: bold\">1</span>: <span style=\"color: #008000; text-decoration-color: #008000\">'say'</span>, <span style=\"color: #008080; text-decoration-color: #008080; font-weight: bold\">2</span>: <span style=\"color: #008000; text-decoration-color: #008000\">'goodbye'</span>, <span style=\"color: #008080; text-decoration-color: #008080; font-weight: bold\">3</span>: <span style=\"color: #008000; text-decoration-color: #008000\">'and'</span>, <span style=\"color: #008080; text-decoration-color: #008080; font-weight: bold\">4</span>: <span style=\"color: #008000; text-decoration-color: #008000\">'i'</span>, <span style=\"color: #008080; text-decoration-color: #008080; font-weight: bold\">5</span>: <span style=\"color: #008000; text-decoration-color: #008000\">'hello'</span>, <span style=\"color: #008080; text-decoration-color: #008080; font-weight: bold\">6</span>: <span style=\"color: #008000; text-decoration-color: #008000\">'.'</span><span style=\"font-weight: bold\">}</span>\n",
       "</pre>\n"
      ],
      "text/plain": [
       "\u001b[1m{\u001b[0m\u001b[1;36m0\u001b[0m: \u001b[32m'you'\u001b[0m, \u001b[1;36m1\u001b[0m: \u001b[32m'say'\u001b[0m, \u001b[1;36m2\u001b[0m: \u001b[32m'goodbye'\u001b[0m, \u001b[1;36m3\u001b[0m: \u001b[32m'and'\u001b[0m, \u001b[1;36m4\u001b[0m: \u001b[32m'i'\u001b[0m, \u001b[1;36m5\u001b[0m: \u001b[32m'hello'\u001b[0m, \u001b[1;36m6\u001b[0m: \u001b[32m'.'\u001b[0m\u001b[1m}\u001b[0m\n"
      ]
     },
     "metadata": {},
     "output_type": "display_data"
    }
   ],
   "source": [
    "text = 'You say goodbye and I say hello.'\n",
    "corpus, word2id, id2word = preprocess(text)\n",
    "print(corpus)\n",
    "print(id2word)"
   ]
  },
  {
   "cell_type": "code",
   "execution_count": 14,
   "metadata": {},
   "outputs": [],
   "source": [
    "#\n",
    "# 共起行列の作成\n",
    "#\n",
    "\n",
    "def create_co_matrix(corpus, vocab_size, window_size=1):\n",
    "    \"\"\"\n",
    "    共起行列の作成\n",
    "    \"\"\"\n",
    "    corpus_size = len(corpus)\n",
    "    co_matrix = np.zeros((vocab_size, vocab_size), dtype=np.int32)\n",
    "    for idx, word_id in enumerate(corpus):\n",
    "        for i in range(1, window_size+1):\n",
    "            left_idx = idx - 1\n",
    "            right_idx = idx + 1\n",
    "            if left_idx >= 0:\n",
    "                left_word_id = corpus[left_idx]\n",
    "                co_matrix[word_id, left_word_id] += 1\n",
    "            if right_idx < corpus_size:\n",
    "                right_word_id = corpus[right_idx]\n",
    "                co_matrix[word_id, right_word_id] += 1\n",
    "    return co_matrix\n",
    "\n",
    "#\n",
    "# コサイン類似度\n",
    "#\n",
    "\n",
    "def cos_similarity(x, y, eps=1e-8):\n",
    "    \"\"\"\n",
    "    コサイン類似度\n",
    "\n",
    "    eps\n",
    "      ゼロベクトルが入ると分子が0にって0除算が発生する．その対策\n",
    "      丸め誤差によりこの程度の誤差は他の値に吸収されるので影響はほぼ出ない\n",
    "    \"\"\"\n",
    "    nx = x / np.sqrt(np.sum(x**2) + eps)\n",
    "    ny = y / np.sqrt(np.sum(y**2) + eps)\n",
    "    return nx @ ny"
   ]
  },
  {
   "cell_type": "code",
   "execution_count": 21,
   "metadata": {},
   "outputs": [
    {
     "data": {
      "text/html": [
       "<div>\n",
       "<style scoped>\n",
       "    .dataframe tbody tr th:only-of-type {\n",
       "        vertical-align: middle;\n",
       "    }\n",
       "\n",
       "    .dataframe tbody tr th {\n",
       "        vertical-align: top;\n",
       "    }\n",
       "\n",
       "    .dataframe thead th {\n",
       "        text-align: right;\n",
       "    }\n",
       "</style>\n",
       "<table border=\"1\" class=\"dataframe\">\n",
       "  <thead>\n",
       "    <tr style=\"text-align: right;\">\n",
       "      <th></th>\n",
       "      <th>you</th>\n",
       "      <th>say</th>\n",
       "      <th>goodbye</th>\n",
       "      <th>and</th>\n",
       "      <th>i</th>\n",
       "      <th>hello</th>\n",
       "      <th>.</th>\n",
       "    </tr>\n",
       "  </thead>\n",
       "  <tbody>\n",
       "    <tr>\n",
       "      <th>you</th>\n",
       "      <td>0</td>\n",
       "      <td>1</td>\n",
       "      <td>0</td>\n",
       "      <td>0</td>\n",
       "      <td>0</td>\n",
       "      <td>0</td>\n",
       "      <td>0</td>\n",
       "    </tr>\n",
       "    <tr>\n",
       "      <th>say</th>\n",
       "      <td>1</td>\n",
       "      <td>0</td>\n",
       "      <td>1</td>\n",
       "      <td>0</td>\n",
       "      <td>1</td>\n",
       "      <td>1</td>\n",
       "      <td>0</td>\n",
       "    </tr>\n",
       "    <tr>\n",
       "      <th>goodbye</th>\n",
       "      <td>0</td>\n",
       "      <td>1</td>\n",
       "      <td>0</td>\n",
       "      <td>1</td>\n",
       "      <td>0</td>\n",
       "      <td>0</td>\n",
       "      <td>0</td>\n",
       "    </tr>\n",
       "    <tr>\n",
       "      <th>and</th>\n",
       "      <td>0</td>\n",
       "      <td>0</td>\n",
       "      <td>1</td>\n",
       "      <td>0</td>\n",
       "      <td>1</td>\n",
       "      <td>0</td>\n",
       "      <td>0</td>\n",
       "    </tr>\n",
       "    <tr>\n",
       "      <th>i</th>\n",
       "      <td>0</td>\n",
       "      <td>1</td>\n",
       "      <td>0</td>\n",
       "      <td>1</td>\n",
       "      <td>0</td>\n",
       "      <td>0</td>\n",
       "      <td>0</td>\n",
       "    </tr>\n",
       "    <tr>\n",
       "      <th>hello</th>\n",
       "      <td>0</td>\n",
       "      <td>1</td>\n",
       "      <td>0</td>\n",
       "      <td>0</td>\n",
       "      <td>0</td>\n",
       "      <td>0</td>\n",
       "      <td>1</td>\n",
       "    </tr>\n",
       "    <tr>\n",
       "      <th>.</th>\n",
       "      <td>0</td>\n",
       "      <td>0</td>\n",
       "      <td>0</td>\n",
       "      <td>0</td>\n",
       "      <td>0</td>\n",
       "      <td>1</td>\n",
       "      <td>0</td>\n",
       "    </tr>\n",
       "  </tbody>\n",
       "</table>\n",
       "</div>"
      ],
      "text/plain": [
       "         you  say  goodbye  and  i  hello  .\n",
       "you        0    1        0    0  0      0  0\n",
       "say        1    0        1    0  1      1  0\n",
       "goodbye    0    1        0    1  0      0  0\n",
       "and        0    0        1    0  1      0  0\n",
       "i          0    1        0    1  0      0  0\n",
       "hello      0    1        0    0  0      0  1\n",
       ".          0    0        0    0  0      1  0"
      ]
     },
     "metadata": {},
     "output_type": "display_data"
    },
    {
     "data": {
      "text/html": [
       "<pre style=\"white-space:pre;overflow-x:auto;line-height:normal;font-family:Menlo,'DejaVu Sans Mono',consolas,'Courier New',monospace\"><span style=\"color: #008080; text-decoration-color: #008080; font-weight: bold\">0.7071067758832467</span>\n",
       "</pre>\n"
      ],
      "text/plain": [
       "\u001b[1;36m0.7071067758832467\u001b[0m\n"
      ]
     },
     "metadata": {},
     "output_type": "display_data"
    }
   ],
   "source": [
    "import pandas as pd\n",
    "\n",
    "#\n",
    "# 今までの内容をまとめて．テキストから共起行列を作るまで一気通貫で実行してみる\n",
    "# \n",
    "\n",
    "text = 'You say goodbye and I say hello.'\n",
    "corpus, word2id, id2word = preprocess(text)\n",
    "vocab_size = len(word2id)\n",
    "C = create_co_matrix(corpus, vocab_size)\n",
    "\n",
    "# print(C)\n",
    "# 共起行列はこんな感じになる\n",
    "display(pd.DataFrame(C, index=word2id.keys(), columns=word2id.keys()))\n",
    "\n",
    "c0 = C[word2id['you']]\n",
    "c1 = C[word2id['i']]\n",
    "print(cos_similarity(c0, c1))"
   ]
  },
  {
   "cell_type": "code",
   "execution_count": 24,
   "metadata": {},
   "outputs": [],
   "source": [
    "#\n",
    "# 類似単語のランキング表示\n",
    "#\n",
    "\n",
    "def most_similar(query, word2id, id2word, word_matrix, top=5):\n",
    "    \"\"\"\n",
    "    与えられた単語と類似度が高い単語を返す\n",
    "\n",
    "    query: 類似度を求めたい単語\n",
    "    word2id:\n",
    "    id2word:\n",
    "    word_matrix: 共起行列\n",
    "    top:\n",
    "    \"\"\"\n",
    "\n",
    "    if query not in word2id:\n",
    "        print(f\"{query} is not found\")\n",
    "        return\n",
    "    print(f\"[query] {query}\")\n",
    "    query_id = word2id[query]\n",
    "    query_vec = word_matrix[query_id]\n",
    "    vocab_size = len(word2id)\n",
    "    similarity = np.zeros(vocab_size)\n",
    "    for i in range(vocab_size):\n",
    "        similarity[i] = cos_similarity(word_matrix[i], query_vec)\n",
    "    count = 0\n",
    "    for i in (-1 * similarity).argsort():\n",
    "        if id2word[i] == query:\n",
    "            continue\n",
    "        print(f\"{id2word[i]}: {similarity[i]}\")\n",
    "        count += 1\n",
    "        if count >= top:\n",
    "            return"
   ]
  },
  {
   "cell_type": "code",
   "execution_count": 25,
   "metadata": {},
   "outputs": [
    {
     "data": {
      "text/html": [
       "<pre style=\"white-space:pre;overflow-x:auto;line-height:normal;font-family:Menlo,'DejaVu Sans Mono',consolas,'Courier New',monospace\"> you\n",
       "</pre>\n"
      ],
      "text/plain": [
       " you\n"
      ]
     },
     "metadata": {},
     "output_type": "display_data"
    },
    {
     "data": {
      "text/html": [
       "<pre style=\"white-space:pre;overflow-x:auto;line-height:normal;font-family:Menlo,'DejaVu Sans Mono',consolas,'Courier New',monospace\">goodbye: <span style=\"color: #008080; text-decoration-color: #008080; font-weight: bold\">0.7071067758832467</span>\n",
       "</pre>\n"
      ],
      "text/plain": [
       "goodbye: \u001b[1;36m0.7071067758832467\u001b[0m\n"
      ]
     },
     "metadata": {},
     "output_type": "display_data"
    },
    {
     "data": {
      "text/html": [
       "<pre style=\"white-space:pre;overflow-x:auto;line-height:normal;font-family:Menlo,'DejaVu Sans Mono',consolas,'Courier New',monospace\">i: <span style=\"color: #008080; text-decoration-color: #008080; font-weight: bold\">0.7071067758832467</span>\n",
       "</pre>\n"
      ],
      "text/plain": [
       "i: \u001b[1;36m0.7071067758832467\u001b[0m\n"
      ]
     },
     "metadata": {},
     "output_type": "display_data"
    },
    {
     "data": {
      "text/html": [
       "<pre style=\"white-space:pre;overflow-x:auto;line-height:normal;font-family:Menlo,'DejaVu Sans Mono',consolas,'Courier New',monospace\">hello: <span style=\"color: #008080; text-decoration-color: #008080; font-weight: bold\">0.7071067758832467</span>\n",
       "</pre>\n"
      ],
      "text/plain": [
       "hello: \u001b[1;36m0.7071067758832467\u001b[0m\n"
      ]
     },
     "metadata": {},
     "output_type": "display_data"
    },
    {
     "data": {
      "text/html": [
       "<pre style=\"white-space:pre;overflow-x:auto;line-height:normal;font-family:Menlo,'DejaVu Sans Mono',consolas,'Courier New',monospace\">say: <span style=\"color: #008080; text-decoration-color: #008080; font-weight: bold\">0.0</span>\n",
       "</pre>\n"
      ],
      "text/plain": [
       "say: \u001b[1;36m0.0\u001b[0m\n"
      ]
     },
     "metadata": {},
     "output_type": "display_data"
    },
    {
     "data": {
      "text/html": [
       "<pre style=\"white-space:pre;overflow-x:auto;line-height:normal;font-family:Menlo,'DejaVu Sans Mono',consolas,'Courier New',monospace\">and: <span style=\"color: #008080; text-decoration-color: #008080; font-weight: bold\">0.0</span>\n",
       "</pre>\n"
      ],
      "text/plain": [
       "and: \u001b[1;36m0.0\u001b[0m\n"
      ]
     },
     "metadata": {},
     "output_type": "display_data"
    }
   ],
   "source": [
    "text = 'You say goodbye and I say hello.'\n",
    "corpus, word2id, id2word = preprocess(text)\n",
    "vocab_size = len(word2id)\n",
    "C = create_co_matrix(corpus, vocab_size)\n",
    "\n",
    "most_similar('you', word2id, id2word, C, top=5)"
   ]
  },
  {
   "cell_type": "markdown",
   "metadata": {},
   "source": [
    "- 相互情報量\n",
    "    - 単なるカウントベースだと上手く単語同士の関連性を表現することができない\n",
    "    - コーパスの単語数を$N$として，単語$x, y$が出現した回数を$C(x), C(y)$としたとき，単語$x, y$が出現する確率は$P(x), P(y)$と書く\n",
    "        - $P(x) = \\frac{C(x)}{N}$\n",
    "    - さらに，単語$x, y$が共起する確率は$P(x,y)$と書く\n",
    "    - このとき相互情報量PMIは以下で書く\n",
    "        - $PMI = \\log_{2}\\frac{P(x,y)}{P(x)P(y)} = \\log_{2}\\frac{\\frac{C(x,y)}{N}}{\\frac{C(x)}{N}\\frac{C(y)}{N}} = \\log_{2}\\frac{C(x,y)\\cdot N}{C(x)C(y)}$\n",
    "- 正の相互情報量\n",
    "    - $\\log_{2}0 = -\\infty$ となるので，実践的に正の相互情報量を使う\n",
    "    - $PPMI(x,y) = max(0, PMI(x,y))$"
   ]
  },
  {
   "cell_type": "code",
   "execution_count": 48,
   "metadata": {},
   "outputs": [],
   "source": [
    "def ppmi(C, verbose=False, eps=1e-7):\n",
    "    M = np.zeros_like(C, dtype=np.float32)\n",
    "    N = np.sum(C) # 全単語数\n",
    "    S = np.sum(C, axis=0) # ↓方向でsum\n",
    "    total = C.shape[0] * C.shape[1]\n",
    "    cnt = 0\n",
    "    for i in range(C.shape[0]):\n",
    "        for j in range(C.shape[1]):\n",
    "            pmi = np.log2(C[i,j]*N / (S[i]*S[j]+eps))\n",
    "            M[i,j] = max(0,pmi)\n",
    "            if verbose:\n",
    "                cnt += 1\n",
    "                if cnt % (total // 100) == 0:\n",
    "                    print(f\"{100*cnt/total:.1f}% done\")\n",
    "    return M"
   ]
  },
  {
   "cell_type": "code",
   "execution_count": 39,
   "metadata": {},
   "outputs": [
    {
     "name": "stderr",
     "output_type": "stream",
     "text": [
      "/tmp/ipykernel_4984/492258848.py:9: RuntimeWarning: divide by zero encountered in log2\n",
      "  pmi = np.log2(C[i,j]*N / (S[i]*S[j]+eps))\n"
     ]
    },
    {
     "data": {
      "text/html": [
       "<pre style=\"white-space:pre;overflow-x:auto;line-height:normal;font-family:Menlo,'DejaVu Sans Mono',consolas,'Courier New',monospace\">convariance matrix\n",
       "</pre>\n"
      ],
      "text/plain": [
       "convariance matrix\n"
      ]
     },
     "metadata": {},
     "output_type": "display_data"
    },
    {
     "data": {
      "text/html": [
       "<div>\n",
       "<style scoped>\n",
       "    .dataframe tbody tr th:only-of-type {\n",
       "        vertical-align: middle;\n",
       "    }\n",
       "\n",
       "    .dataframe tbody tr th {\n",
       "        vertical-align: top;\n",
       "    }\n",
       "\n",
       "    .dataframe thead th {\n",
       "        text-align: right;\n",
       "    }\n",
       "</style>\n",
       "<table border=\"1\" class=\"dataframe\">\n",
       "  <thead>\n",
       "    <tr style=\"text-align: right;\">\n",
       "      <th></th>\n",
       "      <th>you</th>\n",
       "      <th>say</th>\n",
       "      <th>goodbye</th>\n",
       "      <th>and</th>\n",
       "      <th>i</th>\n",
       "      <th>hello</th>\n",
       "      <th>.</th>\n",
       "    </tr>\n",
       "  </thead>\n",
       "  <tbody>\n",
       "    <tr>\n",
       "      <th>you</th>\n",
       "      <td>0</td>\n",
       "      <td>1</td>\n",
       "      <td>0</td>\n",
       "      <td>0</td>\n",
       "      <td>0</td>\n",
       "      <td>0</td>\n",
       "      <td>0</td>\n",
       "    </tr>\n",
       "    <tr>\n",
       "      <th>say</th>\n",
       "      <td>1</td>\n",
       "      <td>0</td>\n",
       "      <td>1</td>\n",
       "      <td>0</td>\n",
       "      <td>1</td>\n",
       "      <td>1</td>\n",
       "      <td>0</td>\n",
       "    </tr>\n",
       "    <tr>\n",
       "      <th>goodbye</th>\n",
       "      <td>0</td>\n",
       "      <td>1</td>\n",
       "      <td>0</td>\n",
       "      <td>1</td>\n",
       "      <td>0</td>\n",
       "      <td>0</td>\n",
       "      <td>0</td>\n",
       "    </tr>\n",
       "    <tr>\n",
       "      <th>and</th>\n",
       "      <td>0</td>\n",
       "      <td>0</td>\n",
       "      <td>1</td>\n",
       "      <td>0</td>\n",
       "      <td>1</td>\n",
       "      <td>0</td>\n",
       "      <td>0</td>\n",
       "    </tr>\n",
       "    <tr>\n",
       "      <th>i</th>\n",
       "      <td>0</td>\n",
       "      <td>1</td>\n",
       "      <td>0</td>\n",
       "      <td>1</td>\n",
       "      <td>0</td>\n",
       "      <td>0</td>\n",
       "      <td>0</td>\n",
       "    </tr>\n",
       "    <tr>\n",
       "      <th>hello</th>\n",
       "      <td>0</td>\n",
       "      <td>1</td>\n",
       "      <td>0</td>\n",
       "      <td>0</td>\n",
       "      <td>0</td>\n",
       "      <td>0</td>\n",
       "      <td>1</td>\n",
       "    </tr>\n",
       "    <tr>\n",
       "      <th>.</th>\n",
       "      <td>0</td>\n",
       "      <td>0</td>\n",
       "      <td>0</td>\n",
       "      <td>0</td>\n",
       "      <td>0</td>\n",
       "      <td>1</td>\n",
       "      <td>0</td>\n",
       "    </tr>\n",
       "  </tbody>\n",
       "</table>\n",
       "</div>"
      ],
      "text/plain": [
       "         you  say  goodbye  and  i  hello  .\n",
       "you        0    1        0    0  0      0  0\n",
       "say        1    0        1    0  1      1  0\n",
       "goodbye    0    1        0    1  0      0  0\n",
       "and        0    0        1    0  1      0  0\n",
       "i          0    1        0    1  0      0  0\n",
       "hello      0    1        0    0  0      0  1\n",
       ".          0    0        0    0  0      1  0"
      ]
     },
     "metadata": {},
     "output_type": "display_data"
    },
    {
     "data": {
      "text/html": [
       "<pre style=\"white-space:pre;overflow-x:auto;line-height:normal;font-family:Menlo,'DejaVu Sans Mono',consolas,'Courier New',monospace\">--------------------------------------------------\n",
       "</pre>\n"
      ],
      "text/plain": [
       "--------------------------------------------------\n"
      ]
     },
     "metadata": {},
     "output_type": "display_data"
    },
    {
     "data": {
      "text/html": [
       "<pre style=\"white-space:pre;overflow-x:auto;line-height:normal;font-family:Menlo,'DejaVu Sans Mono',consolas,'Courier New',monospace\">PPMI\n",
       "</pre>\n"
      ],
      "text/plain": [
       "PPMI\n"
      ]
     },
     "metadata": {},
     "output_type": "display_data"
    },
    {
     "data": {
      "text/html": [
       "<div>\n",
       "<style scoped>\n",
       "    .dataframe tbody tr th:only-of-type {\n",
       "        vertical-align: middle;\n",
       "    }\n",
       "\n",
       "    .dataframe tbody tr th {\n",
       "        vertical-align: top;\n",
       "    }\n",
       "\n",
       "    .dataframe thead th {\n",
       "        text-align: right;\n",
       "    }\n",
       "</style>\n",
       "<table border=\"1\" class=\"dataframe\">\n",
       "  <thead>\n",
       "    <tr style=\"text-align: right;\">\n",
       "      <th></th>\n",
       "      <th>you</th>\n",
       "      <th>say</th>\n",
       "      <th>goodbye</th>\n",
       "      <th>and</th>\n",
       "      <th>i</th>\n",
       "      <th>hello</th>\n",
       "      <th>.</th>\n",
       "    </tr>\n",
       "  </thead>\n",
       "  <tbody>\n",
       "    <tr>\n",
       "      <th>you</th>\n",
       "      <td>0.000</td>\n",
       "      <td>1.807</td>\n",
       "      <td>0.000</td>\n",
       "      <td>0.000</td>\n",
       "      <td>0.000</td>\n",
       "      <td>0.000</td>\n",
       "      <td>0.000</td>\n",
       "    </tr>\n",
       "    <tr>\n",
       "      <th>say</th>\n",
       "      <td>1.807</td>\n",
       "      <td>0.000</td>\n",
       "      <td>0.807</td>\n",
       "      <td>0.000</td>\n",
       "      <td>0.807</td>\n",
       "      <td>0.807</td>\n",
       "      <td>0.000</td>\n",
       "    </tr>\n",
       "    <tr>\n",
       "      <th>goodbye</th>\n",
       "      <td>0.000</td>\n",
       "      <td>0.807</td>\n",
       "      <td>0.000</td>\n",
       "      <td>1.807</td>\n",
       "      <td>0.000</td>\n",
       "      <td>0.000</td>\n",
       "      <td>0.000</td>\n",
       "    </tr>\n",
       "    <tr>\n",
       "      <th>and</th>\n",
       "      <td>0.000</td>\n",
       "      <td>0.000</td>\n",
       "      <td>1.807</td>\n",
       "      <td>0.000</td>\n",
       "      <td>1.807</td>\n",
       "      <td>0.000</td>\n",
       "      <td>0.000</td>\n",
       "    </tr>\n",
       "    <tr>\n",
       "      <th>i</th>\n",
       "      <td>0.000</td>\n",
       "      <td>0.807</td>\n",
       "      <td>0.000</td>\n",
       "      <td>1.807</td>\n",
       "      <td>0.000</td>\n",
       "      <td>0.000</td>\n",
       "      <td>0.000</td>\n",
       "    </tr>\n",
       "    <tr>\n",
       "      <th>hello</th>\n",
       "      <td>0.000</td>\n",
       "      <td>0.807</td>\n",
       "      <td>0.000</td>\n",
       "      <td>0.000</td>\n",
       "      <td>0.000</td>\n",
       "      <td>0.000</td>\n",
       "      <td>2.807</td>\n",
       "    </tr>\n",
       "    <tr>\n",
       "      <th>.</th>\n",
       "      <td>0.000</td>\n",
       "      <td>0.000</td>\n",
       "      <td>0.000</td>\n",
       "      <td>0.000</td>\n",
       "      <td>0.000</td>\n",
       "      <td>2.807</td>\n",
       "      <td>0.000</td>\n",
       "    </tr>\n",
       "  </tbody>\n",
       "</table>\n",
       "</div>"
      ],
      "text/plain": [
       "           you    say  goodbye    and      i  hello      .\n",
       "you      0.000  1.807    0.000  0.000  0.000  0.000  0.000\n",
       "say      1.807  0.000    0.807  0.000  0.807  0.807  0.000\n",
       "goodbye  0.000  0.807    0.000  1.807  0.000  0.000  0.000\n",
       "and      0.000  0.000    1.807  0.000  1.807  0.000  0.000\n",
       "i        0.000  0.807    0.000  1.807  0.000  0.000  0.000\n",
       "hello    0.000  0.807    0.000  0.000  0.000  0.000  2.807\n",
       ".        0.000  0.000    0.000  0.000  0.000  2.807  0.000"
      ]
     },
     "metadata": {},
     "output_type": "display_data"
    }
   ],
   "source": [
    "text = 'You say goodbye and I say hello.'\n",
    "corpus, word2id, id2word = preprocess(text)\n",
    "vocab_size = len(word2id)\n",
    "C = create_co_matrix(corpus, vocab_size)\n",
    "W = ppmi(C)\n",
    "\n",
    "pd.options.display.float_format = \"{: .3f}\".format\n",
    "print('convariance matrix')\n",
    "# print(C)\n",
    "display(pd.DataFrame(C, index=word2id.keys(), columns=word2id.keys()))\n",
    "print('-'*50)\n",
    "print('PPMI')\n",
    "# print(W)\n",
    "display(pd.DataFrame(W, index=word2id.keys(), columns=word2id.keys()))\n",
    "pd.options.display.float_format = None"
   ]
  },
  {
   "cell_type": "markdown",
   "metadata": {},
   "source": [
    "- これにより，共起行列をPPMIに変換することができた\n",
    "- ただし，この方法も完全ではない\n",
    "    - コーパスのサイズが10万になれば共起行列のサイズも10万×10万になる\n",
    "    - 次元削減をするととで解決\n",
    "- 次元削減\n",
    "    - ベクトルの次元を削減する\n",
    "    - 特異値分解を用いる\n",
    "- 特異値分解\n",
    "    - 数値は省く\n",
    "    - np.linalg.svd(W)で利用可能"
   ]
  },
  {
   "cell_type": "code",
   "execution_count": 40,
   "metadata": {},
   "outputs": [
    {
     "name": "stderr",
     "output_type": "stream",
     "text": [
      "/tmp/ipykernel_4984/492258848.py:9: RuntimeWarning: divide by zero encountered in log2\n",
      "  pmi = np.log2(C[i,j]*N / (S[i]*S[j]+eps))\n"
     ]
    },
    {
     "data": {
      "text/html": [
       "<pre style=\"white-space:pre;overflow-x:auto;line-height:normal;font-family:Menlo,'DejaVu Sans Mono',consolas,'Courier New',monospace\"><span style=\"font-weight: bold\">[</span><span style=\"color: #008080; text-decoration-color: #008080; font-weight: bold\">0</span> <span style=\"color: #008080; text-decoration-color: #008080; font-weight: bold\">1</span> <span style=\"color: #008080; text-decoration-color: #008080; font-weight: bold\">0</span> <span style=\"color: #008080; text-decoration-color: #008080; font-weight: bold\">0</span> <span style=\"color: #008080; text-decoration-color: #008080; font-weight: bold\">0</span> <span style=\"color: #008080; text-decoration-color: #008080; font-weight: bold\">0</span> <span style=\"color: #008080; text-decoration-color: #008080; font-weight: bold\">0</span><span style=\"font-weight: bold\">]</span>\n",
       "</pre>\n"
      ],
      "text/plain": [
       "\u001b[1m[\u001b[0m\u001b[1;36m0\u001b[0m \u001b[1;36m1\u001b[0m \u001b[1;36m0\u001b[0m \u001b[1;36m0\u001b[0m \u001b[1;36m0\u001b[0m \u001b[1;36m0\u001b[0m \u001b[1;36m0\u001b[0m\u001b[1m]\u001b[0m\n"
      ]
     },
     "metadata": {},
     "output_type": "display_data"
    },
    {
     "data": {
      "text/html": [
       "<pre style=\"white-space:pre;overflow-x:auto;line-height:normal;font-family:Menlo,'DejaVu Sans Mono',consolas,'Courier New',monospace\"><span style=\"font-weight: bold\">[</span><span style=\"color: #008080; text-decoration-color: #008080; font-weight: bold\">0</span>.        <span style=\"color: #008080; text-decoration-color: #008080; font-weight: bold\">1.8073549</span> <span style=\"color: #008080; text-decoration-color: #008080; font-weight: bold\">0</span>.        <span style=\"color: #008080; text-decoration-color: #008080; font-weight: bold\">0</span>.        <span style=\"color: #008080; text-decoration-color: #008080; font-weight: bold\">0</span>.        <span style=\"color: #008080; text-decoration-color: #008080; font-weight: bold\">0</span>.        <span style=\"color: #008080; text-decoration-color: #008080; font-weight: bold\">0</span>.       <span style=\"font-weight: bold\">]</span>\n",
       "</pre>\n"
      ],
      "text/plain": [
       "\u001b[1m[\u001b[0m\u001b[1;36m0\u001b[0m.        \u001b[1;36m1.8073549\u001b[0m \u001b[1;36m0\u001b[0m.        \u001b[1;36m0\u001b[0m.        \u001b[1;36m0\u001b[0m.        \u001b[1;36m0\u001b[0m.        \u001b[1;36m0\u001b[0m.       \u001b[1m]\u001b[0m\n"
      ]
     },
     "metadata": {},
     "output_type": "display_data"
    },
    {
     "data": {
      "text/html": [
       "<pre style=\"white-space:pre;overflow-x:auto;line-height:normal;font-family:Menlo,'DejaVu Sans Mono',consolas,'Courier New',monospace\"><span style=\"font-weight: bold\">[</span><span style=\"color: #008080; text-decoration-color: #008080; font-weight: bold\">-1.11022302e-16</span>  <span style=\"color: #008080; text-decoration-color: #008080; font-weight: bold\">3.40948761e-01</span> <span style=\"color: #008080; text-decoration-color: #008080; font-weight: bold\">-4.16333634e-16</span> <span style=\"color: #008080; text-decoration-color: #008080; font-weight: bold\">-1.20516241e-01</span>\n",
       " <span style=\"color: #008080; text-decoration-color: #008080; font-weight: bold\">-1.11022302e-16</span> <span style=\"color: #008080; text-decoration-color: #008080; font-weight: bold\">-9.32324946e-01</span> <span style=\"color: #008080; text-decoration-color: #008080; font-weight: bold\">-1.08553466e-16</span><span style=\"font-weight: bold\">]</span>\n",
       "</pre>\n"
      ],
      "text/plain": [
       "\u001b[1m[\u001b[0m\u001b[1;36m-1.11022302e-16\u001b[0m  \u001b[1;36m3.40948761e-01\u001b[0m \u001b[1;36m-4.16333634e-16\u001b[0m \u001b[1;36m-1.20516241e-01\u001b[0m\n",
       " \u001b[1;36m-1.11022302e-16\u001b[0m \u001b[1;36m-9.32324946e-01\u001b[0m \u001b[1;36m-1.08553466e-16\u001b[0m\u001b[1m]\u001b[0m\n"
      ]
     },
     "metadata": {},
     "output_type": "display_data"
    }
   ],
   "source": [
    "text = 'You say goodbye and I say hello.'\n",
    "corpus, word2id, id2word = preprocess(text)\n",
    "vocab_size = len(word2id)\n",
    "C = create_co_matrix(corpus, vocab_size)\n",
    "W = ppmi(C)\n",
    "\n",
    "# SVD\n",
    "U, S, V = np.linalg.svd(W)\n",
    "\n",
    "print(C[0])\n",
    "print(W[0])\n",
    "print(U[0])"
   ]
  },
  {
   "cell_type": "markdown",
   "metadata": {},
   "source": [
    "- 疎な行列が密な行列に変換されていることが確認できる\n",
    "- 使いたい分の次元数は`U[0, :2]`などと指定すれば，2次元への圧縮を意味する"
   ]
  },
  {
   "cell_type": "code",
   "execution_count": 43,
   "metadata": {},
   "outputs": [
    {
     "data": {
      "image/png": "[encoded data removed]",
      "text/plain": [
       "<Figure size 640x480 with 1 Axes>"
      ]
     },
     "metadata": {},
     "output_type": "display_data"
    }
   ],
   "source": [
    "#\n",
    "# 7次元の共起行列，PPMIを2次元に削減してプロットしてみる\n",
    "#\n",
    "\n",
    "# 小さなコーパスなので微妙ではあるが，i, goodbye, hello, youが近い意味を持つなどと解釈できる\n",
    "\n",
    "import matplotlib.pyplot as plt\n",
    "\n",
    "for word, word_id in word2id.items():\n",
    "    plt.annotate(word, (U[word_id, 0], U[word_id, 1]))\n",
    "plt.scatter(U[:, 0], U[:, 1], alpha=0.5)\n",
    "plt.show()"
   ]
  },
  {
   "cell_type": "markdown",
   "metadata": {},
   "source": [
    "- PTB(Penn Treebank)データセット\n",
    "    - 本格的であるが，大きすぎない手ごろなコーパス\n",
    "    - word2vecの開発者Tomas MikolovのWebページで公開されている\n",
    "    - 具体的な数字をN，レアな単語をunkなどに置き換えている"
   ]
  },
  {
   "cell_type": "code",
   "execution_count": null,
   "metadata": {},
   "outputs": [],
   "source": [
    "# ptb.py\n",
    "# https://github.com/oreilly-japan/deep-learning-from-scratch-2/blob/master/dataset/ptb.py\n",
    "\n",
    "# これを実行してコーパスを引っ張ってくる(中身はそんなよんでない)\n",
    "# ptb. ~~ ファイルが生成される"
   ]
  },
  {
   "cell_type": "markdown",
   "metadata": {},
   "source": [
    "- この章でやった処理をPTBセットで実験する"
   ]
  },
  {
   "cell_type": "code",
   "execution_count": 46,
   "metadata": {},
   "outputs": [
    {
     "data": {
      "text/html": [
       "<pre style=\"white-space:pre;overflow-x:auto;line-height:normal;font-family:Menlo,'DejaVu Sans Mono',consolas,'Courier New',monospace\"><span style=\"color: #008080; text-decoration-color: #008080; font-weight: bold\">929589</span>\n",
       "</pre>\n"
      ],
      "text/plain": [
       "\u001b[1;36m929589\u001b[0m\n"
      ]
     },
     "metadata": {},
     "output_type": "display_data"
    }
   ],
   "source": [
    "import ptb\n",
    "corpus, word2id, id2word = ptb.load_data('train')\n",
    "print(len(corpus))"
   ]
  },
  {
   "cell_type": "code",
   "execution_count": 49,
   "metadata": {},
   "outputs": [
    {
     "data": {
      "text/html": [
       "<pre style=\"white-space:pre;overflow-x:auto;line-height:normal;font-family:Menlo,'DejaVu Sans Mono',consolas,'Courier New',monospace\">counting co-occurrence <span style=\"color: #808000; text-decoration-color: #808000\">...</span>\n",
       "</pre>\n"
      ],
      "text/plain": [
       "counting co-occurrence \u001b[33m...\u001b[0m\n"
      ]
     },
     "metadata": {},
     "output_type": "display_data"
    },
    {
     "data": {
      "text/html": [
       "<pre style=\"white-space:pre;overflow-x:auto;line-height:normal;font-family:Menlo,'DejaVu Sans Mono',consolas,'Courier New',monospace\">calculating SVD <span style=\"color: #808000; text-decoration-color: #808000\">...</span>\n",
       "</pre>\n"
      ],
      "text/plain": [
       "calculating SVD \u001b[33m...\u001b[0m\n"
      ]
     },
     "metadata": {},
     "output_type": "display_data"
    },
    {
     "name": "stderr",
     "output_type": "stream",
     "text": [
      "/tmp/ipykernel_4984/2503955487.py:9: RuntimeWarning: divide by zero encountered in log2\n",
      "  pmi = np.log2(C[i,j]*N / (S[i]*S[j]+eps))\n"
     ]
    },
    {
     "data": {
      "text/html": [
       "<pre style=\"white-space:pre;overflow-x:auto;line-height:normal;font-family:Menlo,'DejaVu Sans Mono',consolas,'Courier New',monospace\"> you\n",
       "</pre>\n"
      ],
      "text/plain": [
       " you\n"
      ]
     },
     "metadata": {},
     "output_type": "display_data"
    },
    {
     "data": {
      "text/html": [
       "<pre style=\"white-space:pre;overflow-x:auto;line-height:normal;font-family:Menlo,'DejaVu Sans Mono',consolas,'Courier New',monospace\">we: <span style=\"color: #008080; text-decoration-color: #008080; font-weight: bold\">0.843364417552948</span>\n",
       "</pre>\n"
      ],
      "text/plain": [
       "we: \u001b[1;36m0.843364417552948\u001b[0m\n"
      ]
     },
     "metadata": {},
     "output_type": "display_data"
    },
    {
     "data": {
      "text/html": [
       "<pre style=\"white-space:pre;overflow-x:auto;line-height:normal;font-family:Menlo,'DejaVu Sans Mono',consolas,'Courier New',monospace\">i: <span style=\"color: #008080; text-decoration-color: #008080; font-weight: bold\">0.8225908875465393</span>\n",
       "</pre>\n"
      ],
      "text/plain": [
       "i: \u001b[1;36m0.8225908875465393\u001b[0m\n"
      ]
     },
     "metadata": {},
     "output_type": "display_data"
    },
    {
     "data": {
      "text/html": [
       "<pre style=\"white-space:pre;overflow-x:auto;line-height:normal;font-family:Menlo,'DejaVu Sans Mono',consolas,'Courier New',monospace\">they: <span style=\"color: #008080; text-decoration-color: #008080; font-weight: bold\">0.6780215501785278</span>\n",
       "</pre>\n"
      ],
      "text/plain": [
       "they: \u001b[1;36m0.6780215501785278\u001b[0m\n"
      ]
     },
     "metadata": {},
     "output_type": "display_data"
    },
    {
     "data": {
      "text/html": [
       "<pre style=\"white-space:pre;overflow-x:auto;line-height:normal;font-family:Menlo,'DejaVu Sans Mono',consolas,'Courier New',monospace\">anybody: <span style=\"color: #008080; text-decoration-color: #008080; font-weight: bold\">0.5563338994979858</span>\n",
       "</pre>\n"
      ],
      "text/plain": [
       "anybody: \u001b[1;36m0.5563338994979858\u001b[0m\n"
      ]
     },
     "metadata": {},
     "output_type": "display_data"
    },
    {
     "data": {
      "text/html": [
       "<pre style=\"white-space:pre;overflow-x:auto;line-height:normal;font-family:Menlo,'DejaVu Sans Mono',consolas,'Courier New',monospace\">nobody: <span style=\"color: #008080; text-decoration-color: #008080; font-weight: bold\">0.5393531918525696</span>\n",
       "</pre>\n"
      ],
      "text/plain": [
       "nobody: \u001b[1;36m0.5393531918525696\u001b[0m\n"
      ]
     },
     "metadata": {},
     "output_type": "display_data"
    },
    {
     "data": {
      "text/html": [
       "<pre style=\"white-space:pre;overflow-x:auto;line-height:normal;font-family:Menlo,'DejaVu Sans Mono',consolas,'Courier New',monospace\"> year\n",
       "</pre>\n"
      ],
      "text/plain": [
       " year\n"
      ]
     },
     "metadata": {},
     "output_type": "display_data"
    },
    {
     "data": {
      "text/html": [
       "<pre style=\"white-space:pre;overflow-x:auto;line-height:normal;font-family:Menlo,'DejaVu Sans Mono',consolas,'Courier New',monospace\">week: <span style=\"color: #008080; text-decoration-color: #008080; font-weight: bold\">0.8800252079963684</span>\n",
       "</pre>\n"
      ],
      "text/plain": [
       "week: \u001b[1;36m0.8800252079963684\u001b[0m\n"
      ]
     },
     "metadata": {},
     "output_type": "display_data"
    },
    {
     "data": {
      "text/html": [
       "<pre style=\"white-space:pre;overflow-x:auto;line-height:normal;font-family:Menlo,'DejaVu Sans Mono',consolas,'Courier New',monospace\">month: <span style=\"color: #008080; text-decoration-color: #008080; font-weight: bold\">0.8469558954238892</span>\n",
       "</pre>\n"
      ],
      "text/plain": [
       "month: \u001b[1;36m0.8469558954238892\u001b[0m\n"
      ]
     },
     "metadata": {},
     "output_type": "display_data"
    },
    {
     "data": {
      "text/html": [
       "<pre style=\"white-space:pre;overflow-x:auto;line-height:normal;font-family:Menlo,'DejaVu Sans Mono',consolas,'Courier New',monospace\">quarter: <span style=\"color: #008080; text-decoration-color: #008080; font-weight: bold\">0.7162731885910034</span>\n",
       "</pre>\n"
      ],
      "text/plain": [
       "quarter: \u001b[1;36m0.7162731885910034\u001b[0m\n"
      ]
     },
     "metadata": {},
     "output_type": "display_data"
    },
    {
     "data": {
      "text/html": [
       "<pre style=\"white-space:pre;overflow-x:auto;line-height:normal;font-family:Menlo,'DejaVu Sans Mono',consolas,'Courier New',monospace\">summer: <span style=\"color: #008080; text-decoration-color: #008080; font-weight: bold\">0.7001152634620667</span>\n",
       "</pre>\n"
      ],
      "text/plain": [
       "summer: \u001b[1;36m0.7001152634620667\u001b[0m\n"
      ]
     },
     "metadata": {},
     "output_type": "display_data"
    },
    {
     "data": {
      "text/html": [
       "<pre style=\"white-space:pre;overflow-x:auto;line-height:normal;font-family:Menlo,'DejaVu Sans Mono',consolas,'Courier New',monospace\">day: <span style=\"color: #008080; text-decoration-color: #008080; font-weight: bold\">0.6836220026016235</span>\n",
       "</pre>\n"
      ],
      "text/plain": [
       "day: \u001b[1;36m0.6836220026016235\u001b[0m\n"
      ]
     },
     "metadata": {},
     "output_type": "display_data"
    },
    {
     "data": {
      "text/html": [
       "<pre style=\"white-space:pre;overflow-x:auto;line-height:normal;font-family:Menlo,'DejaVu Sans Mono',consolas,'Courier New',monospace\"> car\n",
       "</pre>\n"
      ],
      "text/plain": [
       " car\n"
      ]
     },
     "metadata": {},
     "output_type": "display_data"
    },
    {
     "data": {
      "text/html": [
       "<pre style=\"white-space:pre;overflow-x:auto;line-height:normal;font-family:Menlo,'DejaVu Sans Mono',consolas,'Courier New',monospace\">auto: <span style=\"color: #008080; text-decoration-color: #008080; font-weight: bold\">0.7198748588562012</span>\n",
       "</pre>\n"
      ],
      "text/plain": [
       "auto: \u001b[1;36m0.7198748588562012\u001b[0m\n"
      ]
     },
     "metadata": {},
     "output_type": "display_data"
    },
    {
     "data": {
      "text/html": [
       "<pre style=\"white-space:pre;overflow-x:auto;line-height:normal;font-family:Menlo,'DejaVu Sans Mono',consolas,'Courier New',monospace\">luxury-car: <span style=\"color: #008080; text-decoration-color: #008080; font-weight: bold\">0.610831081867218</span>\n",
       "</pre>\n"
      ],
      "text/plain": [
       "luxury-car: \u001b[1;36m0.610831081867218\u001b[0m\n"
      ]
     },
     "metadata": {},
     "output_type": "display_data"
    },
    {
     "data": {
      "text/html": [
       "<pre style=\"white-space:pre;overflow-x:auto;line-height:normal;font-family:Menlo,'DejaVu Sans Mono',consolas,'Courier New',monospace\">truck: <span style=\"color: #008080; text-decoration-color: #008080; font-weight: bold\">0.5892620086669922</span>\n",
       "</pre>\n"
      ],
      "text/plain": [
       "truck: \u001b[1;36m0.5892620086669922\u001b[0m\n"
      ]
     },
     "metadata": {},
     "output_type": "display_data"
    },
    {
     "data": {
      "text/html": [
       "<pre style=\"white-space:pre;overflow-x:auto;line-height:normal;font-family:Menlo,'DejaVu Sans Mono',consolas,'Courier New',monospace\">printing: <span style=\"color: #008080; text-decoration-color: #008080; font-weight: bold\">0.5702490210533142</span>\n",
       "</pre>\n"
      ],
      "text/plain": [
       "printing: \u001b[1;36m0.5702490210533142\u001b[0m\n"
      ]
     },
     "metadata": {},
     "output_type": "display_data"
    },
    {
     "data": {
      "text/html": [
       "<pre style=\"white-space:pre;overflow-x:auto;line-height:normal;font-family:Menlo,'DejaVu Sans Mono',consolas,'Courier New',monospace\">jewelry: <span style=\"color: #008080; text-decoration-color: #008080; font-weight: bold\">0.5668525099754333</span>\n",
       "</pre>\n"
      ],
      "text/plain": [
       "jewelry: \u001b[1;36m0.5668525099754333\u001b[0m\n"
      ]
     },
     "metadata": {},
     "output_type": "display_data"
    },
    {
     "data": {
      "text/html": [
       "<pre style=\"white-space:pre;overflow-x:auto;line-height:normal;font-family:Menlo,'DejaVu Sans Mono',consolas,'Courier New',monospace\"> toyota\n",
       "</pre>\n"
      ],
      "text/plain": [
       " toyota\n"
      ]
     },
     "metadata": {},
     "output_type": "display_data"
    },
    {
     "data": {
      "text/html": [
       "<pre style=\"white-space:pre;overflow-x:auto;line-height:normal;font-family:Menlo,'DejaVu Sans Mono',consolas,'Courier New',monospace\">kuwait: <span style=\"color: #008080; text-decoration-color: #008080; font-weight: bold\">0.6906740069389343</span>\n",
       "</pre>\n"
      ],
      "text/plain": [
       "kuwait: \u001b[1;36m0.6906740069389343\u001b[0m\n"
      ]
     },
     "metadata": {},
     "output_type": "display_data"
    },
    {
     "data": {
      "text/html": [
       "<pre style=\"white-space:pre;overflow-x:auto;line-height:normal;font-family:Menlo,'DejaVu Sans Mono',consolas,'Courier New',monospace\">banque: <span style=\"color: #008080; text-decoration-color: #008080; font-weight: bold\">0.6158156991004944</span>\n",
       "</pre>\n"
      ],
      "text/plain": [
       "banque: \u001b[1;36m0.6158156991004944\u001b[0m\n"
      ]
     },
     "metadata": {},
     "output_type": "display_data"
    },
    {
     "data": {
      "text/html": [
       "<pre style=\"white-space:pre;overflow-x:auto;line-height:normal;font-family:Menlo,'DejaVu Sans Mono',consolas,'Courier New',monospace\">pakistan: <span style=\"color: #008080; text-decoration-color: #008080; font-weight: bold\">0.6116858720779419</span>\n",
       "</pre>\n"
      ],
      "text/plain": [
       "pakistan: \u001b[1;36m0.6116858720779419\u001b[0m\n"
      ]
     },
     "metadata": {},
     "output_type": "display_data"
    },
    {
     "data": {
      "text/html": [
       "<pre style=\"white-space:pre;overflow-x:auto;line-height:normal;font-family:Menlo,'DejaVu Sans Mono',consolas,'Courier New',monospace\">aeroflot: <span style=\"color: #008080; text-decoration-color: #008080; font-weight: bold\">0.6023983955383301</span>\n",
       "</pre>\n"
      ],
      "text/plain": [
       "aeroflot: \u001b[1;36m0.6023983955383301\u001b[0m\n"
      ]
     },
     "metadata": {},
     "output_type": "display_data"
    },
    {
     "data": {
      "text/html": [
       "<pre style=\"white-space:pre;overflow-x:auto;line-height:normal;font-family:Menlo,'DejaVu Sans Mono',consolas,'Courier New',monospace\">lufthansa: <span style=\"color: #008080; text-decoration-color: #008080; font-weight: bold\">0.5908816456794739</span>\n",
       "</pre>\n"
      ],
      "text/plain": [
       "lufthansa: \u001b[1;36m0.5908816456794739\u001b[0m\n"
      ]
     },
     "metadata": {},
     "output_type": "display_data"
    }
   ],
   "source": [
    "# より高速でメモリレスなSVDを使う\n",
    "window_size = 2\n",
    "wordvec_size = 100\n",
    "vocab_size = len(word2id)\n",
    "print('counting co-occurrence ...')\n",
    "C = create_co_matrix(corpus, vocab_size, window_size)\n",
    "print('calculating SVD ...')\n",
    "W = ppmi(C, verbose=False)\n",
    "\n",
    "from sklearn.utils.extmath import randomized_svd\n",
    "U, S, V = randomized_svd(W, n_components=wordvec_size, n_iter=5, random_state=None)\n",
    "\n",
    "word_vecs = U[:, :wordvec_size]\n",
    "querys = ['you', 'year', 'car', 'toyota']\n",
    "for query in querys:\n",
    "    most_similar(query, word2id, id2word, word_vecs, top=5)"
   ]
  },
  {
   "cell_type": "markdown",
   "metadata": {},
   "source": [
    "- それっぽい感じはあるという印象\n",
    "- 他指標との比較とかあんま詳しくないのでピンとこない"
   ]
  },
  {
   "cell_type": "code",
   "execution_count": null,
   "metadata": {},
   "outputs": [],
   "source": []
  }
 ],
 "metadata": {
  "kernelspec": {
   "display_name": "Python 3",
   "language": "python",
   "name": "python3"
  },
  "language_info": {
   "codemirror_mode": {
    "name": "ipython",
    "version": 3
   },
   "file_extension": ".py",
   "mimetype": "text/x-python",
   "name": "python",
   "nbconvert_exporter": "python",
   "pygments_lexer": "ipython3",
   "version": "3.10.6"
  },
  "orig_nbformat": 4
 },
 "nbformat": 4,
 "nbformat_minor": 2
}
